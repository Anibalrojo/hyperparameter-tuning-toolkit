{
 "cells": [
  {
   "cell_type": "markdown",
   "metadata": {
    "id": "_vMSQqkbDGCP"
   },
   "source": [
    "# Pima Diabetes: Comparing Hyperparameter Tuning Techniques\n",
    "\n",
    "This notebook tackles the Pima Indians Diabetes classification problem. The primary goal is to establish a baseline model using a `RandomForestClassifier` and then systematically compare the effectiveness of three different hyperparameter tuning techniques:\n",
    "\n",
    "1.  **Grid Search CV**: An exhaustive search over a specified parameter grid.\n",
    "2.  **Random Search CV**: A randomized search over a parameter distribution.\n",
    "3.  **Bayesian Optimization (with Optuna)**: An intelligent search method that uses the results from previous iterations to inform the next best set of parameters to try.\n",
    "\n",
    "We will compare these methods based on the resulting model performance (F1-score and AUC) and the time required for the search."
   ]
  },
  {
   "cell_type": "code",
   "execution_count": 1,
   "metadata": {
    "executionInfo": {
     "elapsed": 1806,
     "status": "ok",
     "timestamp": 1751945276850,
     "user": {
      "displayName": "Aníbal Rojo",
      "userId": "05596267674606337960"
     },
     "user_tz": 240
    },
    "id": "6Q4kaI5cE_N1"
   },
   "outputs": [],
   "source": [
    "# Import necessary libraries\n",
    "import time\n",
    "import os\n",
    "import sys\n",
    "\n",
    "# Data manipulation\n",
    "import pandas as pd\n",
    "import numpy as np\n",
    "import matplotlib.pyplot as plt\n",
    "import seaborn as sns\n",
    "from scipy.stats import randint\n",
    "\n",
    "# Preprocessing and evaluation\n",
    "from sklearn.model_selection import train_test_split, GridSearchCV, RandomizedSearchCV\n",
    "from sklearn.preprocessing import StandardScaler\n",
    "from sklearn.metrics import classification_report, confusion_matrix, roc_auc_score, roc_curve, auc, f1_score, precision_score, recall_score\n",
    "from sklearn.model_selection import cross_val_score\n",
    "\n",
    "# Models\n",
    "from sklearn.ensemble import RandomForestClassifier\n",
    "\n",
    "# Bayesian Optimization\n",
    "import optuna\n",
    "from optuna.visualization import plot_optimization_history, plot_param_importances\n",
    "\n",
    "# Add src to the Python path to import our custom modules\n",
    "# This allows us to import modules from the 'src' directory\n",
    "# Go up one directory from 'notebooks' to the project root\n",
    "module_path = os.path.abspath(os.path.join('..'))\n",
    "if module_path not in sys.path:\n",
    "    sys.path.append(module_path)\n",
    "\n",
    "from src.visualization import visualize"
   ]
  },
  {
   "cell_type": "markdown",
   "metadata": {
    "id": "28ReYIrXFwA6"
   },
   "source": [
    "## 2.1. Data Loading and Initial Exploration\n",
    "\n",
    "We begin by loading the Pima Indians Diabetes dataset. Instead of fetching it directly from a URL, we'll load it from the `data/01_raw` directory. This is a best practice that ensures our analysis is reproducible, as it relies on the local data prepared by the `src/data/make_dataset.py` script rather than an external source that could change or become unavailable.\n",
    "\n",
    "After loading, we'll perform a brief initial exploration to understand its structure, data types, and basic statistics."
   ]
  },
  {
   "cell_type": "code",
   "execution_count": 2,
   "metadata": {
    "colab": {
     "base_uri": "https://localhost:8080/",
     "height": 993
    },
    "executionInfo": {
     "elapsed": 89,
     "status": "ok",
     "timestamp": 1751945276889,
     "user": {
      "displayName": "Aníbal Rojo",
      "userId": "05596267674606337960"
     },
     "user_tz": 240
    },
    "id": "wkf1O5DfFPHS",
    "outputId": "548d1bfe-65e9-4b16-f434-1818808cd02d"
   },
   "outputs": [
    {
     "name": "stdout",
     "output_type": "stream",
     "text": [
      "First 5 rows of the dataset:\n"
     ]
    },
    {
     "data": {
      "text/html": [
       "<div>\n",
       "<style scoped>\n",
       "    .dataframe tbody tr th:only-of-type {\n",
       "        vertical-align: middle;\n",
       "    }\n",
       "\n",
       "    .dataframe tbody tr th {\n",
       "        vertical-align: top;\n",
       "    }\n",
       "\n",
       "    .dataframe thead th {\n",
       "        text-align: right;\n",
       "    }\n",
       "</style>\n",
       "<table border=\"1\" class=\"dataframe\">\n",
       "  <thead>\n",
       "    <tr style=\"text-align: right;\">\n",
       "      <th></th>\n",
       "      <th>Pregnancies</th>\n",
       "      <th>Glucose</th>\n",
       "      <th>BloodPressure</th>\n",
       "      <th>SkinThickness</th>\n",
       "      <th>Insulin</th>\n",
       "      <th>BMI</th>\n",
       "      <th>DiabetesPedigreeFunction</th>\n",
       "      <th>Age</th>\n",
       "      <th>Outcome</th>\n",
       "    </tr>\n",
       "  </thead>\n",
       "  <tbody>\n",
       "    <tr>\n",
       "      <th>0</th>\n",
       "      <td>6</td>\n",
       "      <td>148</td>\n",
       "      <td>72</td>\n",
       "      <td>35</td>\n",
       "      <td>0</td>\n",
       "      <td>33.6</td>\n",
       "      <td>0.627</td>\n",
       "      <td>50</td>\n",
       "      <td>1</td>\n",
       "    </tr>\n",
       "    <tr>\n",
       "      <th>1</th>\n",
       "      <td>1</td>\n",
       "      <td>85</td>\n",
       "      <td>66</td>\n",
       "      <td>29</td>\n",
       "      <td>0</td>\n",
       "      <td>26.6</td>\n",
       "      <td>0.351</td>\n",
       "      <td>31</td>\n",
       "      <td>0</td>\n",
       "    </tr>\n",
       "    <tr>\n",
       "      <th>2</th>\n",
       "      <td>8</td>\n",
       "      <td>183</td>\n",
       "      <td>64</td>\n",
       "      <td>0</td>\n",
       "      <td>0</td>\n",
       "      <td>23.3</td>\n",
       "      <td>0.672</td>\n",
       "      <td>32</td>\n",
       "      <td>1</td>\n",
       "    </tr>\n",
       "    <tr>\n",
       "      <th>3</th>\n",
       "      <td>1</td>\n",
       "      <td>89</td>\n",
       "      <td>66</td>\n",
       "      <td>23</td>\n",
       "      <td>94</td>\n",
       "      <td>28.1</td>\n",
       "      <td>0.167</td>\n",
       "      <td>21</td>\n",
       "      <td>0</td>\n",
       "    </tr>\n",
       "    <tr>\n",
       "      <th>4</th>\n",
       "      <td>0</td>\n",
       "      <td>137</td>\n",
       "      <td>40</td>\n",
       "      <td>35</td>\n",
       "      <td>168</td>\n",
       "      <td>43.1</td>\n",
       "      <td>2.288</td>\n",
       "      <td>33</td>\n",
       "      <td>1</td>\n",
       "    </tr>\n",
       "  </tbody>\n",
       "</table>\n",
       "</div>"
      ],
      "text/plain": [
       "   Pregnancies  Glucose  BloodPressure  SkinThickness  Insulin   BMI  \\\n",
       "0            6      148             72             35        0  33.6   \n",
       "1            1       85             66             29        0  26.6   \n",
       "2            8      183             64              0        0  23.3   \n",
       "3            1       89             66             23       94  28.1   \n",
       "4            0      137             40             35      168  43.1   \n",
       "\n",
       "   DiabetesPedigreeFunction  Age  Outcome  \n",
       "0                     0.627   50        1  \n",
       "1                     0.351   31        0  \n",
       "2                     0.672   32        1  \n",
       "3                     0.167   21        0  \n",
       "4                     2.288   33        1  "
      ]
     },
     "metadata": {},
     "output_type": "display_data"
    },
    {
     "name": "stdout",
     "output_type": "stream",
     "text": [
      "\n",
      "Dataset Dimensions: (768, 9)\n",
      "\n",
      "Data Types:\n",
      "Pregnancies                   int64\n",
      "Glucose                       int64\n",
      "BloodPressure                 int64\n",
      "SkinThickness                 int64\n",
      "Insulin                       int64\n",
      "BMI                         float64\n",
      "DiabetesPedigreeFunction    float64\n",
      "Age                           int64\n",
      "Outcome                       int64\n",
      "dtype: object\n",
      "\n",
      "Missing values per column:\n",
      "Pregnancies                 0\n",
      "Glucose                     0\n",
      "BloodPressure               0\n",
      "SkinThickness               0\n",
      "Insulin                     0\n",
      "BMI                         0\n",
      "DiabetesPedigreeFunction    0\n",
      "Age                         0\n",
      "Outcome                     0\n",
      "dtype: int64\n",
      "\n",
      "Statistical Summary:\n"
     ]
    },
    {
     "data": {
      "text/html": [
       "<div>\n",
       "<style scoped>\n",
       "    .dataframe tbody tr th:only-of-type {\n",
       "        vertical-align: middle;\n",
       "    }\n",
       "\n",
       "    .dataframe tbody tr th {\n",
       "        vertical-align: top;\n",
       "    }\n",
       "\n",
       "    .dataframe thead th {\n",
       "        text-align: right;\n",
       "    }\n",
       "</style>\n",
       "<table border=\"1\" class=\"dataframe\">\n",
       "  <thead>\n",
       "    <tr style=\"text-align: right;\">\n",
       "      <th></th>\n",
       "      <th>Pregnancies</th>\n",
       "      <th>Glucose</th>\n",
       "      <th>BloodPressure</th>\n",
       "      <th>SkinThickness</th>\n",
       "      <th>Insulin</th>\n",
       "      <th>BMI</th>\n",
       "      <th>DiabetesPedigreeFunction</th>\n",
       "      <th>Age</th>\n",
       "      <th>Outcome</th>\n",
       "    </tr>\n",
       "  </thead>\n",
       "  <tbody>\n",
       "    <tr>\n",
       "      <th>count</th>\n",
       "      <td>768.000000</td>\n",
       "      <td>768.000000</td>\n",
       "      <td>768.000000</td>\n",
       "      <td>768.000000</td>\n",
       "      <td>768.000000</td>\n",
       "      <td>768.000000</td>\n",
       "      <td>768.000000</td>\n",
       "      <td>768.000000</td>\n",
       "      <td>768.000000</td>\n",
       "    </tr>\n",
       "    <tr>\n",
       "      <th>mean</th>\n",
       "      <td>3.845052</td>\n",
       "      <td>120.894531</td>\n",
       "      <td>69.105469</td>\n",
       "      <td>20.536458</td>\n",
       "      <td>79.799479</td>\n",
       "      <td>31.992578</td>\n",
       "      <td>0.471876</td>\n",
       "      <td>33.240885</td>\n",
       "      <td>0.348958</td>\n",
       "    </tr>\n",
       "    <tr>\n",
       "      <th>std</th>\n",
       "      <td>3.369578</td>\n",
       "      <td>31.972618</td>\n",
       "      <td>19.355807</td>\n",
       "      <td>15.952218</td>\n",
       "      <td>115.244002</td>\n",
       "      <td>7.884160</td>\n",
       "      <td>0.331329</td>\n",
       "      <td>11.760232</td>\n",
       "      <td>0.476951</td>\n",
       "    </tr>\n",
       "    <tr>\n",
       "      <th>min</th>\n",
       "      <td>0.000000</td>\n",
       "      <td>0.000000</td>\n",
       "      <td>0.000000</td>\n",
       "      <td>0.000000</td>\n",
       "      <td>0.000000</td>\n",
       "      <td>0.000000</td>\n",
       "      <td>0.078000</td>\n",
       "      <td>21.000000</td>\n",
       "      <td>0.000000</td>\n",
       "    </tr>\n",
       "    <tr>\n",
       "      <th>25%</th>\n",
       "      <td>1.000000</td>\n",
       "      <td>99.000000</td>\n",
       "      <td>62.000000</td>\n",
       "      <td>0.000000</td>\n",
       "      <td>0.000000</td>\n",
       "      <td>27.300000</td>\n",
       "      <td>0.243750</td>\n",
       "      <td>24.000000</td>\n",
       "      <td>0.000000</td>\n",
       "    </tr>\n",
       "    <tr>\n",
       "      <th>50%</th>\n",
       "      <td>3.000000</td>\n",
       "      <td>117.000000</td>\n",
       "      <td>72.000000</td>\n",
       "      <td>23.000000</td>\n",
       "      <td>30.500000</td>\n",
       "      <td>32.000000</td>\n",
       "      <td>0.372500</td>\n",
       "      <td>29.000000</td>\n",
       "      <td>0.000000</td>\n",
       "    </tr>\n",
       "    <tr>\n",
       "      <th>75%</th>\n",
       "      <td>6.000000</td>\n",
       "      <td>140.250000</td>\n",
       "      <td>80.000000</td>\n",
       "      <td>32.000000</td>\n",
       "      <td>127.250000</td>\n",
       "      <td>36.600000</td>\n",
       "      <td>0.626250</td>\n",
       "      <td>41.000000</td>\n",
       "      <td>1.000000</td>\n",
       "    </tr>\n",
       "    <tr>\n",
       "      <th>max</th>\n",
       "      <td>17.000000</td>\n",
       "      <td>199.000000</td>\n",
       "      <td>122.000000</td>\n",
       "      <td>99.000000</td>\n",
       "      <td>846.000000</td>\n",
       "      <td>67.100000</td>\n",
       "      <td>2.420000</td>\n",
       "      <td>81.000000</td>\n",
       "      <td>1.000000</td>\n",
       "    </tr>\n",
       "  </tbody>\n",
       "</table>\n",
       "</div>"
      ],
      "text/plain": [
       "       Pregnancies     Glucose  BloodPressure  SkinThickness     Insulin  \\\n",
       "count   768.000000  768.000000     768.000000     768.000000  768.000000   \n",
       "mean      3.845052  120.894531      69.105469      20.536458   79.799479   \n",
       "std       3.369578   31.972618      19.355807      15.952218  115.244002   \n",
       "min       0.000000    0.000000       0.000000       0.000000    0.000000   \n",
       "25%       1.000000   99.000000      62.000000       0.000000    0.000000   \n",
       "50%       3.000000  117.000000      72.000000      23.000000   30.500000   \n",
       "75%       6.000000  140.250000      80.000000      32.000000  127.250000   \n",
       "max      17.000000  199.000000     122.000000      99.000000  846.000000   \n",
       "\n",
       "              BMI  DiabetesPedigreeFunction         Age     Outcome  \n",
       "count  768.000000                768.000000  768.000000  768.000000  \n",
       "mean    31.992578                  0.471876   33.240885    0.348958  \n",
       "std      7.884160                  0.331329   11.760232    0.476951  \n",
       "min      0.000000                  0.078000   21.000000    0.000000  \n",
       "25%     27.300000                  0.243750   24.000000    0.000000  \n",
       "50%     32.000000                  0.372500   29.000000    0.000000  \n",
       "75%     36.600000                  0.626250   41.000000    1.000000  \n",
       "max     67.100000                  2.420000   81.000000    1.000000  "
      ]
     },
     "metadata": {},
     "output_type": "display_data"
    }
   ],
   "source": [
    "# Define the path to the raw dataset\n",
    "# The `..` navigates up one directory from `notebooks` to the project root\n",
    "DATA_PATH = \"../data/01_raw/pima-indians-diabetes.csv\"\n",
    "\n",
    "# Load the dataset using pandas\n",
    "df = pd.read_csv(DATA_PATH)\n",
    "\n",
    "# Display the first 5 rows\n",
    "print(\"First 5 rows of the dataset:\")\n",
    "display(df.head())\n",
    "\n",
    "# Dimensions of the dataset\n",
    "print(\"\\nDataset Dimensions:\", df.shape)\n",
    "\n",
    "# Data types\n",
    "print(\"\\nData Types:\")\n",
    "print(df.dtypes)\n",
    "\n",
    "# Check for missing values\n",
    "print(\"\\nMissing values per column:\")\n",
    "print(df.isnull().sum())\n",
    "\n",
    "# Basic statistical summary\n",
    "print(\"\\nStatistical Summary:\")\n",
    "display(df.describe())"
   ]
  },
  {
   "cell_type": "markdown",
   "metadata": {
    "id": "oSsX9QzeG2SR"
   },
   "source": [
    "The initial exploration reveals that the dataset has no missing values, and all columns are numeric.\n",
    "\n",
    "For the purpose of this exercise, we will proceed directly to model training. However, in a real-world scenario, a more thorough exploratory data analysis (EDA) would be required to investigate data quality issues, such as the presence of zero values in columns like `Glucose`, `BloodPressure`, or `BMI`, which are physiologically impossible and likely represent missing data."
   ]
  },
  {
   "cell_type": "markdown",
   "metadata": {
    "id": "ZKjF06cyHKhT"
   },
   "source": [
    "## 2.2. Loading Processed Data\n",
    "\n",
    "The following cell will now load the pre-processed training and testing sets directly from the `data/02_processed` directory. All the necessary steps—separating features, splitting into training and testing sets, and feature scaling—have already been performed by our `src/features/build_features.py` script.\n",
    "\n",
    "This ensures that every notebook in this project uses the exact same data split, making our experiments perfectly consistent and reproducible."
   ]
  },
  {
   "cell_type": "code",
   "execution_count": 3,
   "metadata": {
    "colab": {
     "base_uri": "https://localhost:8080/"
    },
    "executionInfo": {
     "elapsed": 21,
     "status": "ok",
     "timestamp": 1751945276913,
     "user": {
      "displayName": "Aníbal Rojo",
      "userId": "05596267674606337960"
     },
     "user_tz": 240
    },
    "id": "QDTlpmu9HGaN",
    "outputId": "4909d33e-bcd1-4fc8-ac37-8257cf1c9865"
   },
   "outputs": [
    {
     "name": "stdout",
     "output_type": "stream",
     "text": [
      "X_train shape: (614, 8)\n",
      "X_test shape: (154, 8)\n",
      "y_train shape: (614,)\n",
      "y_test shape: (154,)\n"
     ]
    }
   ],
   "source": [
    "# Define paths to the processed data\n",
    "PROCESSED_DATA_PATH = \"../data/02_processed/\"\n",
    "\n",
    "X_train = pd.read_csv(os.path.join(PROCESSED_DATA_PATH, 'pima_X_train.csv'))\n",
    "X_test = pd.read_csv(os.path.join(PROCESSED_DATA_PATH, 'pima_X_test.csv'))\n",
    "y_train = pd.read_csv(os.path.join(PROCESSED_DATA_PATH, 'pima_y_train.csv')).squeeze()\n",
    "y_test = pd.read_csv(os.path.join(PROCESSED_DATA_PATH, 'pima_y_test.csv')).squeeze()\n",
    "\n",
    "# Display the shapes of the loaded data\n",
    "print(\"X_train shape:\", X_train.shape)\n",
    "print(\"X_test shape:\", X_test.shape)\n",
    "print(\"y_train shape:\", y_train.shape)\n",
    "print(\"y_test shape:\", y_test.shape)"
   ]
  },
  {
   "cell_type": "markdown",
   "metadata": {
    "id": "EsxcTlVzOWsK"
   },
   "source": [
    "## 3. Baseline Model Performance\n",
    "\n",
    "Before diving into hyperparameter tuning, it's essential to establish a baseline. We will train a `RandomForestClassifier` with its default parameters to see how it performs out-of-the-box. This baseline will serve as the benchmark against which we'll measure the improvements gained from our tuning efforts."
   ]
  },
  {
   "cell_type": "markdown",
   "metadata": {
    "id": "MGkGGaugNy1n"
   },
   "source": []
  },
  {
   "cell_type": "code",
   "execution_count": 4,
   "metadata": {
    "colab": {
     "base_uri": "https://localhost:8080/"
    },
    "executionInfo": {
     "elapsed": 398,
     "status": "ok",
     "timestamp": 1751945277327,
     "user": {
      "displayName": "Aníbal Rojo",
      "userId": "05596267674606337960"
     },
     "user_tz": 240
    },
    "id": "VwoNe3omK5WG",
    "outputId": "07a23fe3-371b-4cce-9158-7c532e92845d"
   },
   "outputs": [
    {
     "name": "stdout",
     "output_type": "stream",
     "text": [
      "Classification Report (Baseline Model):\n",
      "              precision    recall  f1-score   support\n",
      "\n",
      "           0      0.794     0.850     0.821       100\n",
      "           1      0.681     0.593     0.634        54\n",
      "\n",
      "    accuracy                          0.760       154\n",
      "   macro avg      0.738     0.721     0.727       154\n",
      "weighted avg      0.755     0.760     0.755       154\n",
      "\n",
      "AUC: 0.815\n"
     ]
    }
   ],
   "source": [
    "# Train a Random Forest with default parameters\n",
    "baseline_model = RandomForestClassifier(random_state=42)\n",
    "baseline_model.fit(X_train, y_train)\n",
    "\n",
    "# Predictions on the test set\n",
    "y_pred_base = baseline_model.predict(X_test)\n",
    "y_prob_base = baseline_model.predict_proba(X_test)[:, 1]  # Probabilities for AUC calculation\n",
    "\n",
    "# Classification report\n",
    "print(\"Classification Report (Baseline Model):\")\n",
    "print(classification_report(y_test, y_pred_base, digits=3))\n",
    "\n",
    "# Calculate AUC\n",
    "base_model_auc = roc_auc_score(y_test, y_prob_base)\n",
    "print(f\"AUC: {base_model_auc:.3f}\")"
   ]
  },
  {
   "cell_type": "markdown",
   "metadata": {
    "id": "Q41yGyEeOUNQ"
   },
   "source": [
    "### 3.1. ROC Curve\n",
    "\n",
    "The Receiver Operating Characteristic (ROC) curve is a key visualization for evaluating the performance of a binary classification model. It plots the True Positive Rate (TPR) against the False Positive Rate (FPR) at various classification thresholds.\n",
    "\n",
    "-   **X-axis (FPR)**: False Positive Rate = `FP / (FP + TN)`\n",
    "-   **Y-axis (TPR)**: True Positive Rate (or Recall) = `TP / (TP + FN)`\n",
    "\n",
    "The Area Under the Curve (AUC) provides a single metric to summarize the model's performance across all thresholds. An AUC of 1.0 represents a perfect classifier, while an AUC of 0.5 represents a model with no discriminative power (equivalent to random guessing)."
   ]
  },
  {
   "cell_type": "code",
   "execution_count": 5,
   "metadata": {
    "colab": {
     "base_uri": "https://localhost:8080/",
     "height": 507
    },
    "executionInfo": {
     "elapsed": 550,
     "status": "ok",
     "timestamp": 1751945277874,
     "user": {
      "displayName": "Aníbal Rojo",
      "userId": "05596267674606337960"
     },
     "user_tz": 240
    },
    "id": "GtybxD-HOlRO",
    "outputId": "cf9ebf78-2337-44e4-be12-432d0b385bab"
   },
   "outputs": [
    {
     "name": "stdout",
     "output_type": "stream",
     "text": [
      "--- Results for Baseline Model ---\n",
      "F1-score : 0.6337\n",
      "Precision: 0.6809\n",
      "Recall   : 0.5926\n",
      "AUC      : 0.8147\n",
      "------------------------------\n",
      "\n"
     ]
    },
    {
     "data": {
      "image/png": "[encoded data removed]",
      "text/plain": [
       "<Figure size 1000x800 with 1 Axes>"
      ]
     },
     "metadata": {},
     "output_type": "display_data"
    }
   ],
   "source": [
    "# We use our centralized function to evaluate the model and plot the ROC curve.\n",
    "visualize.evaluate_models([baseline_model], ['Baseline Model'], X_test, y_test)"
   ]
  },
  {
   "cell_type": "markdown",
   "metadata": {
    "id": "AVcsbE53PW39"
   },
   "source": [
    "The baseline model achieves an AUC of 0.815, which indicates a reasonably good ability to distinguish between diabetic and non-diabetic patients, significantly better than random chance (AUC = 0.5). Our goal with hyperparameter tuning will be to improve upon this score and the F1-score."
   ]
  },
  {
   "cell_type": "markdown",
   "metadata": {
    "id": "JVZIcNVrP3yW"
   },
   "source": [
    "## 4. Hyperparameter Tuning Techniques\n",
    "\n",
    "Now, we will implement and compare three different techniques to find the optimal hyperparameter configuration for our `RandomForestClassifier`."
   ]
  },
  {
   "cell_type": "code",
   "execution_count": 6,
   "metadata": {
    "executionInfo": {
     "elapsed": 5,
     "status": "ok",
     "timestamp": 1751945277884,
     "user": {
      "displayName": "Aníbal Rojo",
      "userId": "05596267674606337960"
     },
     "user_tz": 240
    },
    "id": "pB9GldZvP59H"
   },
   "outputs": [],
   "source": [
    "# Define the parameter grid for Grid Search\n",
    "param_grid = {\n",
    "    'n_estimators': [50, 100, 150],          # Number of trees in the forest\n",
    "    'max_depth': [None, 10, 20, 30],         # Maximum depth of the tree\n",
    "    'min_samples_split': [2, 5, 10],         # Minimum number of samples required to split a node\n",
    "    'min_samples_leaf': [1, 2, 4],           # Minimum number of samples required at a leaf node\n",
    "    'bootstrap': [True, False]               # Method of sampling data points (with or without replacement)\n",
    "}"
   ]
  },
  {
   "cell_type": "markdown",
   "metadata": {
    "id": "xxVlohbgD-O6"
   },
   "source": [
    "### 4.1. Grid Search"
   ]
  },
  {
   "cell_type": "markdown",
   "metadata": {},
   "source": [
    "Grid Search is the most traditional and straightforward hyperparameter tuning method. It works by exhaustively searching through a manually specified subset of the hyperparameter space of a learning algorithm.\n",
    "\n",
    "-   **Pros**: Guarantees that the optimal combination of parameters (within the specified grid) will be found.\n",
    "-   **Cons**: Can be extremely computationally expensive and slow, especially as the number of hyperparameters and their possible values grow (suffers from the \"curse of dimensionality\"). It is often impractical for large parameter spaces.\n"
   ]
  },
  {
   "cell_type": "code",
   "execution_count": 7,
   "metadata": {
    "colab": {
     "base_uri": "https://localhost:8080/"
    },
    "executionInfo": {
     "elapsed": 141139,
     "status": "ok",
     "timestamp": 1751945419028,
     "user": {
      "displayName": "Aníbal Rojo",
      "userId": "05596267674606337960"
     },
     "user_tz": 240
    },
    "id": "ITsvBgOwQwE0",
    "outputId": "035322a6-367c-4134-c866-de4be1328738"
   },
   "outputs": [
    {
     "name": "stdout",
     "output_type": "stream",
     "text": [
      "Fitting 5 folds for each of 216 candidates, totalling 1080 fits\n",
      "Best parameters (Grid Search): {'bootstrap': True, 'max_depth': None, 'min_samples_leaf': 2, 'min_samples_split': 2, 'n_estimators': 100}\n",
      "Best F1-score (Grid Search): 0.6559\n",
      "Grid Search execution time: 110.07 seconds\n"
     ]
    }
   ],
   "source": [
    "# Instantiate the base classifier\n",
    "rf = RandomForestClassifier(random_state=42)\n",
    "\n",
    "# Set up Grid Search with 5-fold cross-validation\n",
    "grid_search = GridSearchCV(\n",
    "    estimator=rf,\n",
    "    param_grid=param_grid,\n",
    "    cv=5,                   # Number of cross-validation folds\n",
    "    scoring='f1',           # Metric to evaluate performance\n",
    "    n_jobs=-1,              # Use all available CPU cores\n",
    "    verbose=1               # Show progress\n",
    ")\n",
    "\n",
    "# Measure execution time\n",
    "start_time = time.time()\n",
    "grid_search.fit(X_train, y_train)\n",
    "end_time = time.time()\n",
    "\n",
    "grid_search_time = end_time - start_time\n",
    "\n",
    "print(f\"Best parameters (Grid Search): {grid_search.best_params_}\")\n",
    "print(f\"Best F1-score (Grid Search): {grid_search.best_score_:.4f}\")\n",
    "print(f\"Grid Search execution time: {grid_search_time:.2f} seconds\")"
   ]
  },
  {
   "cell_type": "markdown",
   "metadata": {
    "id": "6F5a7_s3EBfd"
   },
   "source": [
    "### 4.2. Random Search"
   ]
  },
  {
   "cell_type": "markdown",
   "metadata": {},
   "source": [
    "Random Search differs from Grid Search in that it doesn't try every possible combination. Instead, it samples a fixed number of parameter combinations (`n_iter`) from the specified distributions.\n",
    "\n",
    "-   **Pros**: Much more efficient than Grid Search, especially for large parameter spaces. It often finds a very good combination of parameters faster because it doesn't waste time on unimportant parameters.\n",
    "-   **Cons**: It does not guarantee that the optimal combination will be found. The results can also vary slightly between runs if the `random_state` is not fixed.\n"
   ]
  },
  {
   "cell_type": "code",
   "execution_count": 8,
   "metadata": {
    "colab": {
     "base_uri": "https://localhost:8080/"
    },
    "executionInfo": {
     "elapsed": 32513,
     "status": "ok",
     "timestamp": 1751945451536,
     "user": {
      "displayName": "Aníbal Rojo",
      "userId": "05596267674606337960"
     },
     "user_tz": 240
    },
    "id": "NJKNZT49EDHA",
    "outputId": "7e17fcf6-d849-42e3-9412-1face58010bd"
   },
   "outputs": [
    {
     "name": "stdout",
     "output_type": "stream",
     "text": [
      "Fitting 5 folds for each of 50 candidates, totalling 250 fits\n",
      "Best hyperparameters found:\n",
      "{'bootstrap': True, 'max_depth': 50, 'min_samples_leaf': 1, 'min_samples_split': 2, 'n_estimators': 170}\n",
      "\n",
      "Best average F1-score (CV): 0.6516\n",
      "Random Search execution time: 31.87 seconds\n"
     ]
    }
   ],
   "source": [
    "# Define the random search space\n",
    "param_dist = {\n",
    "    'n_estimators': randint(50, 200),\n",
    "    'max_depth': [None, 10, 20, 30, 40, 50],\n",
    "    'min_samples_split': randint(2, 11),\n",
    "    'min_samples_leaf': randint(1, 5),\n",
    "    'bootstrap': [True, False]\n",
    "}\n",
    "\n",
    "# Initialize the base model\n",
    "rf_model = RandomForestClassifier(random_state=42)\n",
    "\n",
    "# Set up Random Search\n",
    "random_search = RandomizedSearchCV(\n",
    "    estimator=rf_model,\n",
    "    param_distributions=param_dist,\n",
    "    n_iter=50,              # Number of random combinations to try\n",
    "    scoring='f1',           # Metric to optimize\n",
    "    cv=5,                   # 5-fold cross-validation\n",
    "    n_jobs=-1,              # Use all available cores\n",
    "    verbose=1,\n",
    "    random_state=42         # for reproducibility\n",
    ")\n",
    "\n",
    "# Execute the search and measure time\n",
    "start_time = time.time()\n",
    "random_search.fit(X_train, y_train)\n",
    "end_time = time.time()\n",
    "\n",
    "random_search_time = end_time - start_time\n",
    "\n",
    "# Results\n",
    "print(\"Best hyperparameters found:\")\n",
    "print(random_search.best_params_)\n",
    "print(f\"\\nBest average F1-score (CV): {random_search.best_score_:.4f}\")\n",
    "print(f\"Random Search execution time: {random_search_time:.2f} seconds\")"
   ]
  },
  {
   "cell_type": "markdown",
   "metadata": {
    "id": "FSJrQrwIEpAM"
   },
   "source": [
    "### 4.3. Bayesian Optimization with Optuna"
   ]
  },
  {
   "cell_type": "markdown",
   "metadata": {},
   "source": [
    "Bayesian Optimization is a more advanced and intelligent hyperparameter tuning technique. It builds a probabilistic model (often a Gaussian Process) of the objective function (e.g., F1-score) and uses it to select the most promising hyperparameters to evaluate in the next iteration.\n",
    "\n",
    "-   **Pros**: Far more efficient than Grid Search or Random Search. It finds better hyperparameters in fewer iterations because it focuses the search on more promising areas of the parameter space.\n",
    "-   **Cons**: Can be more complex to set up. The performance can be sensitive to the initial search points and the specific probabilistic model used.\n"
   ]
  },
  {
   "cell_type": "code",
   "execution_count": 9,
   "metadata": {
    "colab": {
     "base_uri": "https://localhost:8080/",
     "height": 1000,
     "referenced_widgets": [
      "b3f13f24c11e4cd9ad6b8ef30aaecab9",
      "8b3ac7c2e7554d56be5c61e3fe325c3e",
      "fc4e5226031e45b2b7ac8eeccdfc8e3f",
      "8ad9532a8eb54ee091b1dc862a9024ed",
      "053308114ca84c35a66dac624ae87645",
      "6388e83c7e6c42f5a039a797d40df127",
      "ee48ba83fa1d4d0fb09944e6828b76ab",
      "d70dca861f944b3b85ab9e687a63bf3e",
      "e86e90eef7874328a91ce248fb7ea5e0",
      "c1fa1990d3fb4c4fadc0db87adb941d9",
      "1cbab1289f804c3a9e0bb4a86d4f3172"
     ]
    },
    "executionInfo": {
     "elapsed": 58658,
     "status": "ok",
     "timestamp": 1751945510173,
     "user": {
      "displayName": "Aníbal Rojo",
      "userId": "05596267674606337960"
     },
     "user_tz": 240
    },
    "id": "QH0jGpPBErM7",
    "outputId": "7fa6389e-c9e1-4e1e-a120-7c57b173f784"
   },
   "outputs": [
    {
     "name": "stderr",
     "output_type": "stream",
     "text": [
      "[I 2025-08-27 00:41:00,824] A new study created in memory with name: no-name-a36749e8-5fc9-4024-adb6-17c84d225a36\n"
     ]
    },
    {
     "data": {
      "application/vnd.jupyter.widget-view+json": {
       "model_id": "57c06bee414c4fe18a0ba801ec285fab",
       "version_major": 2,
       "version_minor": 0
      },
      "text/plain": [
       "  0%|          | 0/50 [00:00<?, ?it/s]"
      ]
     },
     "metadata": {},
     "output_type": "display_data"
    },
    {
     "name": "stdout",
     "output_type": "stream",
     "text": [
      "[I 2025-08-27 00:41:02,046] Trial 0 finished with value: 0.6232732773456625 and parameters: {'n_estimators': 56, 'max_depth': 20, 'min_samples_split': 10, 'min_samples_leaf': 5, 'bootstrap': True}. Best is trial 0 with value: 0.6232732773456625.\n",
      "[I 2025-08-27 00:41:04,904] Trial 1 finished with value: 0.6221590588164683 and parameters: {'n_estimators': 191, 'max_depth': 22, 'min_samples_split': 4, 'min_samples_leaf': 1, 'bootstrap': False}. Best is trial 0 with value: 0.6232732773456625.\n",
      "[I 2025-08-27 00:41:07,141] Trial 2 finished with value: 0.6324671166780496 and parameters: {'n_estimators': 93, 'max_depth': 24, 'min_samples_split': 5, 'min_samples_leaf': 1, 'bootstrap': True}. Best is trial 2 with value: 0.6324671166780496.\n",
      "[I 2025-08-27 00:41:09,222] Trial 3 finished with value: 0.6297202295552367 and parameters: {'n_estimators': 143, 'max_depth': 31, 'min_samples_split': 5, 'min_samples_leaf': 4, 'bootstrap': False}. Best is trial 2 with value: 0.6324671166780496.\n",
      "[I 2025-08-27 00:41:12,191] Trial 4 finished with value: 0.6393807522616288 and parameters: {'n_estimators': 176, 'max_depth': 9, 'min_samples_split': 6, 'min_samples_leaf': 1, 'bootstrap': True}. Best is trial 4 with value: 0.6393807522616288.\n",
      "[I 2025-08-27 00:41:13,532] Trial 5 finished with value: 0.593165834405921 and parameters: {'n_estimators': 107, 'max_depth': 5, 'min_samples_split': 6, 'min_samples_leaf': 2, 'bootstrap': False}. Best is trial 4 with value: 0.6393807522616288.\n",
      "[I 2025-08-27 00:41:14,601] Trial 6 finished with value: 0.6280556894745973 and parameters: {'n_estimators': 85, 'max_depth': 48, 'min_samples_split': 5, 'min_samples_leaf': 4, 'bootstrap': False}. Best is trial 4 with value: 0.6393807522616288.\n",
      "[I 2025-08-27 00:41:15,839] Trial 7 finished with value: 0.6292379612885942 and parameters: {'n_estimators': 66, 'max_depth': 42, 'min_samples_split': 7, 'min_samples_leaf': 5, 'bootstrap': True}. Best is trial 4 with value: 0.6393807522616288.\n",
      "[I 2025-08-27 00:41:18,843] Trial 8 finished with value: 0.6321578112290187 and parameters: {'n_estimators': 187, 'max_depth': 37, 'min_samples_split': 7, 'min_samples_leaf': 4, 'bootstrap': True}. Best is trial 4 with value: 0.6393807522616288.\n",
      "[I 2025-08-27 00:41:20,563] Trial 9 finished with value: 0.6298861608649691 and parameters: {'n_estimators': 104, 'max_depth': 28, 'min_samples_split': 9, 'min_samples_leaf': 1, 'bootstrap': True}. Best is trial 4 with value: 0.6393807522616288.\n",
      "[I 2025-08-27 00:41:23,039] Trial 10 finished with value: 0.6165133112501533 and parameters: {'n_estimators': 152, 'max_depth': 5, 'min_samples_split': 2, 'min_samples_leaf': 2, 'bootstrap': True}. Best is trial 4 with value: 0.6393807522616288.\n",
      "[I 2025-08-27 00:41:26,001] Trial 11 finished with value: 0.6390914615078161 and parameters: {'n_estimators': 162, 'max_depth': 15, 'min_samples_split': 3, 'min_samples_leaf': 2, 'bootstrap': True}. Best is trial 4 with value: 0.6393807522616288.\n",
      "[I 2025-08-27 00:41:28,635] Trial 12 finished with value: 0.6390914615078161 and parameters: {'n_estimators': 161, 'max_depth': 14, 'min_samples_split': 2, 'min_samples_leaf': 2, 'bootstrap': True}. Best is trial 4 with value: 0.6393807522616288.\n",
      "[I 2025-08-27 00:41:31,315] Trial 13 finished with value: 0.639531772575251 and parameters: {'n_estimators': 171, 'max_depth': 14, 'min_samples_split': 3, 'min_samples_leaf': 3, 'bootstrap': True}. Best is trial 13 with value: 0.639531772575251.\n",
      "[I 2025-08-27 00:41:34,416] Trial 14 finished with value: 0.6301418561582374 and parameters: {'n_estimators': 200, 'max_depth': 12, 'min_samples_split': 8, 'min_samples_leaf': 3, 'bootstrap': True}. Best is trial 13 with value: 0.639531772575251.\n",
      "[I 2025-08-27 00:41:36,362] Trial 15 finished with value: 0.6282458196593217 and parameters: {'n_estimators': 125, 'max_depth': 11, 'min_samples_split': 3, 'min_samples_leaf': 3, 'bootstrap': True}. Best is trial 13 with value: 0.639531772575251.\n",
      "[I 2025-08-27 00:41:39,038] Trial 16 finished with value: 0.6435897435897436 and parameters: {'n_estimators': 174, 'max_depth': 18, 'min_samples_split': 4, 'min_samples_leaf': 3, 'bootstrap': True}. Best is trial 16 with value: 0.6435897435897436.\n",
      "[I 2025-08-27 00:41:41,124] Trial 17 finished with value: 0.6337701804368471 and parameters: {'n_estimators': 133, 'max_depth': 18, 'min_samples_split': 4, 'min_samples_leaf': 3, 'bootstrap': True}. Best is trial 16 with value: 0.6435897435897436.\n",
      "[I 2025-08-27 00:41:43,368] Trial 18 finished with value: 0.6314873996670677 and parameters: {'n_estimators': 169, 'max_depth': 33, 'min_samples_split': 3, 'min_samples_leaf': 4, 'bootstrap': False}. Best is trial 16 with value: 0.6435897435897436.\n",
      "[I 2025-08-27 00:41:46,018] Trial 19 finished with value: 0.64 and parameters: {'n_estimators': 179, 'max_depth': 25, 'min_samples_split': 4, 'min_samples_leaf': 3, 'bootstrap': True}. Best is trial 16 with value: 0.6435897435897436.\n",
      "[I 2025-08-27 00:41:48,820] Trial 20 finished with value: 0.6321578112290187 and parameters: {'n_estimators': 184, 'max_depth': 27, 'min_samples_split': 4, 'min_samples_leaf': 4, 'bootstrap': True}. Best is trial 16 with value: 0.6435897435897436.\n",
      "[I 2025-08-27 00:41:51,462] Trial 21 finished with value: 0.6435897435897436 and parameters: {'n_estimators': 174, 'max_depth': 18, 'min_samples_split': 3, 'min_samples_leaf': 3, 'bootstrap': True}. Best is trial 16 with value: 0.6435897435897436.\n",
      "[I 2025-08-27 00:41:53,895] Trial 22 finished with value: 0.6453236976814212 and parameters: {'n_estimators': 151, 'max_depth': 18, 'min_samples_split': 4, 'min_samples_leaf': 3, 'bootstrap': True}. Best is trial 22 with value: 0.6453236976814212.\n",
      "[I 2025-08-27 00:41:56,050] Trial 23 finished with value: 0.6426357653052845 and parameters: {'n_estimators': 144, 'max_depth': 19, 'min_samples_split': 2, 'min_samples_leaf': 2, 'bootstrap': True}. Best is trial 22 with value: 0.6453236976814212.\n",
      "[I 2025-08-27 00:41:58,350] Trial 24 finished with value: 0.6330773086129677 and parameters: {'n_estimators': 123, 'max_depth': 18, 'min_samples_split': 5, 'min_samples_leaf': 3, 'bootstrap': True}. Best is trial 22 with value: 0.6453236976814212.\n",
      "[I 2025-08-27 00:42:01,111] Trial 25 finished with value: 0.6339256148254165 and parameters: {'n_estimators': 151, 'max_depth': 8, 'min_samples_split': 3, 'min_samples_leaf': 3, 'bootstrap': True}. Best is trial 22 with value: 0.6453236976814212.\n",
      "[I 2025-08-27 00:42:03,401] Trial 26 finished with value: 0.6359929537271635 and parameters: {'n_estimators': 200, 'max_depth': 17, 'min_samples_split': 4, 'min_samples_leaf': 3, 'bootstrap': False}. Best is trial 22 with value: 0.6453236976814212.\n",
      "[I 2025-08-27 00:42:06,014] Trial 27 finished with value: 0.632662345705824 and parameters: {'n_estimators': 162, 'max_depth': 22, 'min_samples_split': 2, 'min_samples_leaf': 4, 'bootstrap': True}. Best is trial 22 with value: 0.6453236976814212.\n",
      "[I 2025-08-27 00:42:08,238] Trial 28 finished with value: 0.627907264901526 and parameters: {'n_estimators': 135, 'max_depth': 30, 'min_samples_split': 5, 'min_samples_leaf': 2, 'bootstrap': True}. Best is trial 22 with value: 0.6453236976814212.\n",
      "[I 2025-08-27 00:42:10,688] Trial 29 finished with value: 0.6227498090832023 and parameters: {'n_estimators': 154, 'max_depth': 23, 'min_samples_split': 10, 'min_samples_leaf': 5, 'bootstrap': True}. Best is trial 22 with value: 0.6453236976814212.\n",
      "[I 2025-08-27 00:42:13,637] Trial 30 finished with value: 0.6330998382031027 and parameters: {'n_estimators': 174, 'max_depth': 20, 'min_samples_split': 7, 'min_samples_leaf': 3, 'bootstrap': True}. Best is trial 22 with value: 0.6453236976814212.\n",
      "[I 2025-08-27 00:42:20,441] Trial 31 finished with value: 0.6406283001965536 and parameters: {'n_estimators': 142, 'max_depth': 20, 'min_samples_split': 2, 'min_samples_leaf': 2, 'bootstrap': True}. Best is trial 22 with value: 0.6453236976814212.\n",
      "[I 2025-08-27 00:42:25,173] Trial 32 finished with value: 0.6459901956850314 and parameters: {'n_estimators': 143, 'max_depth': 16, 'min_samples_split': 3, 'min_samples_leaf': 2, 'bootstrap': True}. Best is trial 32 with value: 0.6459901956850314.\n",
      "[I 2025-08-27 00:42:27,315] Trial 33 finished with value: 0.6390594384460514 and parameters: {'n_estimators': 116, 'max_depth': 16, 'min_samples_split': 3, 'min_samples_leaf': 3, 'bootstrap': True}. Best is trial 32 with value: 0.6459901956850314.\n",
      "[I 2025-08-27 00:42:30,055] Trial 34 finished with value: 0.6246822584455469 and parameters: {'n_estimators': 188, 'max_depth': 12, 'min_samples_split': 4, 'min_samples_leaf': 2, 'bootstrap': False}. Best is trial 32 with value: 0.6459901956850314.\n",
      "[I 2025-08-27 00:42:35,590] Trial 35 finished with value: 0.6464653795196096 and parameters: {'n_estimators': 166, 'max_depth': 23, 'min_samples_split': 4, 'min_samples_leaf': 1, 'bootstrap': True}. Best is trial 35 with value: 0.6464653795196096.\n",
      "[I 2025-08-27 00:42:40,060] Trial 36 finished with value: 0.6231879101653723 and parameters: {'n_estimators': 157, 'max_depth': 22, 'min_samples_split': 5, 'min_samples_leaf': 1, 'bootstrap': True}. Best is trial 35 with value: 0.6464653795196096.\n",
      "[I 2025-08-27 00:42:42,409] Trial 37 finished with value: 0.6324557864198781 and parameters: {'n_estimators': 135, 'max_depth': 23, 'min_samples_split': 4, 'min_samples_leaf': 1, 'bootstrap': False}. Best is trial 35 with value: 0.6464653795196096.\n",
      "[I 2025-08-27 00:42:45,155] Trial 38 finished with value: 0.6293367267206931 and parameters: {'n_estimators': 147, 'max_depth': 25, 'min_samples_split': 6, 'min_samples_leaf': 1, 'bootstrap': True}. Best is trial 35 with value: 0.6464653795196096.\n",
      "[I 2025-08-27 00:42:48,169] Trial 39 finished with value: 0.6398507579309267 and parameters: {'n_estimators': 168, 'max_depth': 9, 'min_samples_split': 5, 'min_samples_leaf': 1, 'bootstrap': True}. Best is trial 35 with value: 0.6464653795196096.\n",
      "[I 2025-08-27 00:42:49,147] Trial 40 finished with value: 0.6303099206791154 and parameters: {'n_estimators': 61, 'max_depth': 33, 'min_samples_split': 6, 'min_samples_leaf': 2, 'bootstrap': False}. Best is trial 35 with value: 0.6464653795196096.\n",
      "[I 2025-08-27 00:42:52,122] Trial 41 finished with value: 0.6434567901234567 and parameters: {'n_estimators': 180, 'max_depth': 16, 'min_samples_split': 3, 'min_samples_leaf': 3, 'bootstrap': True}. Best is trial 35 with value: 0.6464653795196096.\n",
      "[I 2025-08-27 00:42:55,203] Trial 42 finished with value: 0.640956263372618 and parameters: {'n_estimators': 165, 'max_depth': 20, 'min_samples_split': 4, 'min_samples_leaf': 2, 'bootstrap': True}. Best is trial 35 with value: 0.6464653795196096.\n",
      "[I 2025-08-27 00:42:58,270] Trial 43 finished with value: 0.6268868560633267 and parameters: {'n_estimators': 176, 'max_depth': 27, 'min_samples_split': 3, 'min_samples_leaf': 4, 'bootstrap': True}. Best is trial 35 with value: 0.6464653795196096.\n",
      "[I 2025-08-27 00:43:01,396] Trial 44 finished with value: 0.6373809523809524 and parameters: {'n_estimators': 156, 'max_depth': 14, 'min_samples_split': 4, 'min_samples_leaf': 1, 'bootstrap': True}. Best is trial 35 with value: 0.6464653795196096.\n",
      "[I 2025-08-27 00:43:04,954] Trial 45 finished with value: 0.6423943345235635 and parameters: {'n_estimators': 194, 'max_depth': 46, 'min_samples_split': 3, 'min_samples_leaf': 2, 'bootstrap': True}. Best is trial 35 with value: 0.6464653795196096.\n",
      "[I 2025-08-27 00:43:07,345] Trial 46 finished with value: 0.6486796145739235 and parameters: {'n_estimators': 140, 'max_depth': 21, 'min_samples_split': 2, 'min_samples_leaf': 3, 'bootstrap': True}. Best is trial 46 with value: 0.6486796145739235.\n",
      "[I 2025-08-27 00:43:09,205] Trial 47 finished with value: 0.6560651634259453 and parameters: {'n_estimators': 110, 'max_depth': 25, 'min_samples_split': 2, 'min_samples_leaf': 2, 'bootstrap': True}. Best is trial 47 with value: 0.6560651634259453.\n",
      "[I 2025-08-27 00:43:10,821] Trial 48 finished with value: 0.646295546497573 and parameters: {'n_estimators': 86, 'max_depth': 30, 'min_samples_split': 2, 'min_samples_leaf': 1, 'bootstrap': True}. Best is trial 47 with value: 0.6560651634259453.\n",
      "[I 2025-08-27 00:43:12,652] Trial 49 finished with value: 0.647858290676351 and parameters: {'n_estimators': 89, 'max_depth': 39, 'min_samples_split': 2, 'min_samples_leaf': 1, 'bootstrap': True}. Best is trial 47 with value: 0.6560651634259453.\n",
      "Best hyperparameters found by Optuna:\n",
      "{'n_estimators': 110, 'max_depth': 25, 'min_samples_split': 2, 'min_samples_leaf': 2, 'bootstrap': True}\n",
      "\n",
      "Best average F1-score (CV): 0.6561\n",
      "Optuna execution time: 131.83 seconds\n"
     ]
    }
   ],
   "source": [
    "def objective(trial):\n",
    "    \"\"\"Define the objective function for Optuna to optimize.\"\"\"\n",
    "    # Define the hyperparameter search space\n",
    "    n_estimators = trial.suggest_int('n_estimators', 50, 200)\n",
    "    max_depth = trial.suggest_int('max_depth', 5, 50)\n",
    "    min_samples_split = trial.suggest_int('min_samples_split', 2, 10)\n",
    "    min_samples_leaf = trial.suggest_int('min_samples_leaf', 1, 5)\n",
    "    bootstrap = trial.suggest_categorical('bootstrap', [True, False])\n",
    "\n",
    "    # Create the model with the suggested hyperparameters\n",
    "    model = RandomForestClassifier(\n",
    "        n_estimators=n_estimators,\n",
    "        max_depth=max_depth,\n",
    "        min_samples_split=min_samples_split,\n",
    "        min_samples_leaf=min_samples_leaf,\n",
    "        bootstrap=bootstrap,\n",
    "        random_state=42,\n",
    "        n_jobs=-1\n",
    "    )\n",
    "\n",
    "    # Return the mean F1-score from cross-validation\n",
    "    f1 = cross_val_score(model, X_train, y_train, scoring='f1', cv=5).mean()\n",
    "    return f1\n",
    "\n",
    "# Create a new Optuna study and optimize it\n",
    "start_time = time.time()\n",
    "\n",
    "study = optuna.create_study(direction='maximize')\n",
    "study.optimize(objective, n_trials=50, show_progress_bar=True)\n",
    "\n",
    "end_time = time.time()\n",
    "optuna_time = end_time - start_time\n",
    "\n",
    "# Results\n",
    "print(\"Best hyperparameters found by Optuna:\")\n",
    "print(study.best_params)\n",
    "print(f\"\\nBest average F1-score (CV): {study.best_value:.4f}\")\n",
    "print(f\"Optuna execution time: {optuna_time:.2f} seconds\")"
   ]
  },
  {
   "cell_type": "markdown",
   "metadata": {
    "id": "Y5x-QRlOGXNK"
   },
   "source": [
    "## 5. Model Comparison and Final Evaluation\n",
    "\n",
    "Now that we have tuned our `RandomForestClassifier` using three different methods, it's time to compare their performance on the hold-out test set. We will train a final model for each set of best-found hyperparameters and evaluate them against the baseline model."
   ]
  },
  {
   "cell_type": "code",
   "execution_count": 10,
   "metadata": {
    "executionInfo": {
     "elapsed": 817,
     "status": "ok",
     "timestamp": 1751946105337,
     "user": {
      "displayName": "Aníbal Rojo",
      "userId": "05596267674606337960"
     },
     "user_tz": 240
    },
    "id": "BYQEWLqtHsqh"
   },
   "outputs": [],
   "source": [
    "# The best_estimator_ attribute of GridSearchCV and RandomizedSearchCV\n",
    "# is already a fitted model on the whole training set.\n",
    "model_grid = grid_search.best_estimator_\n",
    "model_random = random_search.best_estimator_\n",
    "\n",
    "# For Optuna, we need to create and fit a new model with the best parameters found.\n",
    "model_optuna = RandomForestClassifier(**study.best_params, random_state=42, n_jobs=-1).fit(X_train, y_train)\n"
   ]
  },
  {
   "cell_type": "code",
   "execution_count": 11,
   "metadata": {
    "colab": {
     "base_uri": "https://localhost:8080/",
     "height": 1000
    },
    "executionInfo": {
     "elapsed": 391,
     "status": "ok",
     "timestamp": 1751946180540,
     "user": {
      "displayName": "Aníbal Rojo",
      "userId": "05596267674606337960"
     },
     "user_tz": 240
    },
    "id": "vaqqqvCIH_rg",
    "outputId": "f9437b79-5eb6-45c1-8b57-6726a000e39a"
   },
   "outputs": [
    {
     "name": "stdout",
     "output_type": "stream",
     "text": [
      "--- Results for Baseline Model ---\n",
      "F1-score : 0.6337\n",
      "Precision: 0.6809\n",
      "Recall   : 0.5926\n",
      "AUC      : 0.8147\n",
      "------------------------------\n",
      "\n",
      "--- Results for Grid Search ---\n",
      "F1-score : 0.6000\n",
      "Precision: 0.6522\n",
      "Recall   : 0.5556\n",
      "AUC      : 0.8176\n",
      "------------------------------\n",
      "\n",
      "--- Results for Random Search ---\n",
      "F1-score : 0.6337\n",
      "Precision: 0.6809\n",
      "Recall   : 0.5926\n",
      "AUC      : 0.8148\n",
      "------------------------------\n",
      "\n",
      "--- Results for Optuna ---\n",
      "F1-score : 0.5941\n",
      "Precision: 0.6383\n",
      "Recall   : 0.5556\n",
      "AUC      : 0.8148\n",
      "------------------------------\n",
      "\n"
     ]
    },
    {
     "data": {
      "image/png": "[encoded data removed]",
      "text/plain": [
       "<Figure size 1000x800 with 1 Axes>"
      ]
     },
     "metadata": {},
     "output_type": "display_data"
    }
   ],
   "source": [
    "models_to_compare = [baseline_model, model_grid, model_random, model_optuna]\n",
    "model_names = ['Baseline Model', 'Grid Search', 'Random Search', 'Optuna']\n",
    "\n",
    "# Evaluate the models on the test set\n",
    "visualize.evaluate_models(models_to_compare, model_names, X_test, y_test)"
   ]
  },
  {
   "cell_type": "markdown",
   "metadata": {
    "id": "lsbxMkWqIyhg"
   },
   "source": [
    "### Summary of Time vs. Performance\n",
    "\n",
    "Let's create a summary DataFrame to visualize the trade-offs between the time taken and the performance achieved by each method."
   ]
  },
  {
   "cell_type": "code",
   "execution_count": 12,
   "metadata": {},
   "outputs": [
    {
     "data": {
      "text/html": [
       "<div>\n",
       "<style scoped>\n",
       "    .dataframe tbody tr th:only-of-type {\n",
       "        vertical-align: middle;\n",
       "    }\n",
       "\n",
       "    .dataframe tbody tr th {\n",
       "        vertical-align: top;\n",
       "    }\n",
       "\n",
       "    .dataframe thead th {\n",
       "        text-align: right;\n",
       "    }\n",
       "</style>\n",
       "<table border=\"1\" class=\"dataframe\">\n",
       "  <thead>\n",
       "    <tr style=\"text-align: right;\">\n",
       "      <th></th>\n",
       "      <th>Execution Time (s)</th>\n",
       "      <th>CV F1-Score</th>\n",
       "      <th>Test F1-Score</th>\n",
       "    </tr>\n",
       "    <tr>\n",
       "      <th>Method</th>\n",
       "      <th></th>\n",
       "      <th></th>\n",
       "      <th></th>\n",
       "    </tr>\n",
       "  </thead>\n",
       "  <tbody>\n",
       "    <tr>\n",
       "      <th>Baseline</th>\n",
       "      <td>0.00</td>\n",
       "      <td>0.6337</td>\n",
       "      <td>0.6337</td>\n",
       "    </tr>\n",
       "    <tr>\n",
       "      <th>Grid Search</th>\n",
       "      <td>110.07</td>\n",
       "      <td>0.6559</td>\n",
       "      <td>0.6000</td>\n",
       "    </tr>\n",
       "    <tr>\n",
       "      <th>Random Search</th>\n",
       "      <td>31.87</td>\n",
       "      <td>0.6516</td>\n",
       "      <td>0.6337</td>\n",
       "    </tr>\n",
       "    <tr>\n",
       "      <th>Bayesian (Optuna)</th>\n",
       "      <td>131.83</td>\n",
       "      <td>0.6561</td>\n",
       "      <td>0.5941</td>\n",
       "    </tr>\n",
       "  </tbody>\n",
       "</table>\n",
       "</div>"
      ],
      "text/plain": [
       "                   Execution Time (s)  CV F1-Score  Test F1-Score\n",
       "Method                                                           \n",
       "Baseline                         0.00       0.6337         0.6337\n",
       "Grid Search                    110.07       0.6559         0.6000\n",
       "Random Search                   31.87       0.6516         0.6337\n",
       "Bayesian (Optuna)              131.83       0.6561         0.5941"
      ]
     },
     "metadata": {},
     "output_type": "display_data"
    }
   ],
   "source": [
    "# Get the F1 scores from the test set evaluation\n",
    "f1_baseline = f1_score(y_test, baseline_model.predict(X_test))\n",
    "f1_grid = f1_score(y_test, model_grid.predict(X_test))\n",
    "f1_random = f1_score(y_test, model_random.predict(X_test))\n",
    "f1_optuna = f1_score(y_test, model_optuna.predict(X_test))\n",
    "\n",
    "# Create a summary DataFrame\n",
    "summary_data = {\n",
    "    'Method': ['Baseline', 'Grid Search', 'Random Search', 'Bayesian (Optuna)'],\n",
    "    'Execution Time (s)': [0, grid_search_time, random_search_time, optuna_time],\n",
    "    'CV F1-Score': [f1_baseline, grid_search.best_score_, random_search.best_score_, study.best_value],\n",
    "    'Test F1-Score': [f1_baseline, f1_grid, f1_random, f1_optuna]\n",
    "}\n",
    "\n",
    "summary_df = pd.DataFrame(summary_data).set_index('Method')\n",
    "summary_df['Execution Time (s)'] = summary_df['Execution Time (s)'].round(2)\n",
    "summary_df['CV F1-Score'] = summary_df['CV F1-Score'].round(4)\n",
    "summary_df['Test F1-Score'] = summary_df['Test F1-Score'].round(4)\n",
    "\n",
    "display(summary_df)"
   ]
  },
  {
   "cell_type": "markdown",
   "metadata": {},
   "source": [
    "## 6. Analysis and Conclusion\n",
    "\n",
    "This notebook performed a comprehensive comparison of three popular hyperparameter tuning techniques: Grid Search, Random Search, and Bayesian Optimization (with Optuna) against a baseline `RandomForestClassifier` for the Pima Indians Diabetes dataset. The analysis yielded several important and practical insights.\n",
    "\n",
    "### Key Findings:\n",
    "\n",
    "1.  **The Baseline Model is a Strong Contender**: Surprisingly, none of the sophisticated tuning methods managed to outperform the default `RandomForestClassifier` on the hold-out test set. The Baseline and Random Search models achieved the highest F1-score (0.6337). This is a crucial finding: for robust algorithms like Random Forest, default parameters can be highly effective, and tuning may yield only marginal or no improvement.\n",
    "\n",
    "2.  **Performance vs. Efficiency Trade-off**:\n",
    "    *   **Grid Search**: By far the most computationally expensive method (115.59s). While it found the highest-scoring parameters during CV (F1-score: 0.6559), this did not translate to superior performance on the test set.\n",
    "    *   **Random Search**: Offered a significant speed improvement over Grid Search (36.01s) while achieving an identical test F1-score to the baseline. This highlights its value in efficiently exploring large parameter spaces.\n",
    "    *   **Bayesian Optimization (Optuna)**: Was the most efficient of the tuning methods (28.49s). Although its final test score was slightly lower, its intelligent search process demonstrates its potential to find good solutions with minimal computational budget.\n",
    "\n",
    "3.  **The \"Validation Overfitting\" Phenomenon**: The summary table clearly shows that while all tuning methods found parameters that improved the cross-validation F1-score, this improvement did not generalize to the unseen test data. This is a classic example of minor overfitting to the validation sets and underscores the absolute necessity of a final, hold-out test set to get an unbiased estimate of a model's true performance.\n",
    "\n",
    "### Final Recommendations:\n",
    "\n",
    "For any machine learning project, it is essential to **start with a simple baseline**. As demonstrated here, a well-chosen default model can perform exceptionally well.\n",
    "\n",
    "-   If tuning is required, **Random Search** offers an excellent balance of performance and computational efficiency.\n",
    "-   For projects with a very large hyperparameter space or a limited time budget, **Bayesian Optimization** is a superior choice due to its intelligent and efficient search strategy.\n",
    "\n",
    "This analysis serves as a practical reminder that while advanced tuning techniques are powerful, they are not a guaranteed path to better performance. Their effectiveness is highly dependent on the dataset, the model, and the parameter space.\n",
    "\n",
    "**Future work could involve:**\n",
    "*   Expanding the search space with more hyperparameters or a wider range of values.\n",
    "*   Performing more advanced feature engineering to address data quality issues (e.g., the zero-value anomalies) before tuning."
   ]
  }
 ],
 "metadata": {
  "colab": {
   "authorship_tag": "ABX9TyOVPlwDfnxE7OXMPkFMaoqR",
   "provenance": [],
   "toc_visible": true
  },
  "kernelspec": {
   "display_name": "hyperparameter-toolkit-venv",
   "language": "python",
   "name": "hyperparameter-toolkit-venv"
  },
  "language_info": {
   "codemirror_mode": {
    "name": "ipython",
    "version": 3
   },
   "file_extension": ".py",
   "mimetype": "text/x-python",
   "name": "python",
   "nbconvert_exporter": "python",
   "pygments_lexer": "ipython3",
   "version": "3.12.4"
  },
  "widgets": {
   "application/vnd.jupyter.widget-state+json": {
    "053308114ca84c35a66dac624ae87645": {
     "model_module": "@jupyter-widgets/base",
     "model_module_version": "1.2.0",
     "model_name": "LayoutModel",
     "state": {
      "_model_module": "@jupyter-widgets/base",
      "_model_module_version": "1.2.0",
      "_model_name": "LayoutModel",
      "_view_count": null,
      "_view_module": "@jupyter-widgets/base",
      "_view_module_version": "1.2.0",
      "_view_name": "LayoutView",
      "align_content": null,
      "align_items": null,
      "align_self": null,
      "border": null,
      "bottom": null,
      "display": null,
      "flex": null,
      "flex_flow": null,
      "grid_area": null,
      "grid_auto_columns": null,
      "grid_auto_flow": null,
      "grid_auto_rows": null,
      "grid_column": null,
      "grid_gap": null,
      "grid_row": null,
      "grid_template_areas": null,
      "grid_template_columns": null,
      "grid_template_rows": null,
      "height": null,
      "justify_content": null,
      "justify_items": null,
      "left": null,
      "margin": null,
      "max_height": null,
      "max_width": null,
      "min_height": null,
      "min_width": null,
      "object_fit": null,
      "object_position": null,
      "order": null,
      "overflow": null,
      "overflow_x": null,
      "overflow_y": null,
      "padding": null,
      "right": null,
      "top": null,
      "visibility": null,
      "width": null
     }
    },
    "1cbab1289f804c3a9e0bb4a86d4f3172": {
     "model_module": "@jupyter-widgets/controls",
     "model_module_version": "1.5.0",
     "model_name": "DescriptionStyleModel",
     "state": {
      "_model_module": "@jupyter-widgets/controls",
      "_model_module_version": "1.5.0",
      "_model_name": "DescriptionStyleModel",
      "_view_count": null,
      "_view_module": "@jupyter-widgets/base",
      "_view_module_version": "1.2.0",
      "_view_name": "StyleView",
      "description_width": ""
     }
    },
    "6388e83c7e6c42f5a039a797d40df127": {
     "model_module": "@jupyter-widgets/base",
     "model_module_version": "1.2.0",
     "model_name": "LayoutModel",
     "state": {
      "_model_module": "@jupyter-widgets/base",
      "_model_module_version": "1.2.0",
      "_model_name": "LayoutModel",
      "_view_count": null,
      "_view_module": "@jupyter-widgets/base",
      "_view_module_version": "1.2.0",
      "_view_name": "LayoutView",
      "align_content": null,
      "align_items": null,
      "align_self": null,
      "border": null,
      "bottom": null,
      "display": null,
      "flex": null,
      "flex_flow": null,
      "grid_area": null,
      "grid_auto_columns": null,
      "grid_auto_flow": null,
      "grid_auto_rows": null,
      "grid_column": null,
      "grid_gap": null,
      "grid_row": null,
      "grid_template_areas": null,
      "grid_template_columns": null,
      "grid_template_rows": null,
      "height": null,
      "justify_content": null,
      "justify_items": null,
      "left": null,
      "margin": null,
      "max_height": null,
      "max_width": null,
      "min_height": null,
      "min_width": null,
      "object_fit": null,
      "object_position": null,
      "order": null,
      "overflow": null,
      "overflow_x": null,
      "overflow_y": null,
      "padding": null,
      "right": null,
      "top": null,
      "visibility": null,
      "width": null
     }
    },
    "8ad9532a8eb54ee091b1dc862a9024ed": {
     "model_module": "@jupyter-widgets/controls",
     "model_module_version": "1.5.0",
     "model_name": "HTMLModel",
     "state": {
      "_dom_classes": [],
      "_model_module": "@jupyter-widgets/controls",
      "_model_module_version": "1.5.0",
      "_model_name": "HTMLModel",
      "_view_count": null,
      "_view_module": "@jupyter-widgets/controls",
      "_view_module_version": "1.5.0",
      "_view_name": "HTMLView",
      "description": "",
      "description_tooltip": null,
      "layout": "IPY_MODEL_c1fa1990d3fb4c4fadc0db87adb941d9",
      "placeholder": "​",
      "style": "IPY_MODEL_1cbab1289f804c3a9e0bb4a86d4f3172",
      "value": " 50/50 [00:58&lt;00:00,  1.05s/it]"
     }
    },
    "8b3ac7c2e7554d56be5c61e3fe325c3e": {
     "model_module": "@jupyter-widgets/controls",
     "model_module_version": "1.5.0",
     "model_name": "HTMLModel",
     "state": {
      "_dom_classes": [],
      "_model_module": "@jupyter-widgets/controls",
      "_model_module_version": "1.5.0",
      "_model_name": "HTMLModel",
      "_view_count": null,
      "_view_module": "@jupyter-widgets/controls",
      "_view_module_version": "1.5.0",
      "_view_name": "HTMLView",
      "description": "",
      "description_tooltip": null,
      "layout": "IPY_MODEL_6388e83c7e6c42f5a039a797d40df127",
      "placeholder": "​",
      "style": "IPY_MODEL_ee48ba83fa1d4d0fb09944e6828b76ab",
      "value": "Best trial: 4. Best value: 0.651098: 100%"
     }
    },
    "b3f13f24c11e4cd9ad6b8ef30aaecab9": {
     "model_module": "@jupyter-widgets/controls",
     "model_module_version": "1.5.0",
     "model_name": "HBoxModel",
     "state": {
      "_dom_classes": [],
      "_model_module": "@jupyter-widgets/controls",
      "_model_module_version": "1.5.0",
      "_model_name": "HBoxModel",
      "_view_count": null,
      "_view_module": "@jupyter-widgets/controls",
      "_view_module_version": "1.5.0",
      "_view_name": "HBoxView",
      "box_style": "",
      "children": [
       "IPY_MODEL_8b3ac7c2e7554d56be5c61e3fe325c3e",
       "IPY_MODEL_fc4e5226031e45b2b7ac8eeccdfc8e3f",
       "IPY_MODEL_8ad9532a8eb54ee091b1dc862a9024ed"
      ],
      "layout": "IPY_MODEL_053308114ca84c35a66dac624ae87645"
     }
    },
    "c1fa1990d3fb4c4fadc0db87adb941d9": {
     "model_module": "@jupyter-widgets/base",
     "model_module_version": "1.2.0",
     "model_name": "LayoutModel",
     "state": {
      "_model_module": "@jupyter-widgets/base",
      "_model_module_version": "1.2.0",
      "_model_name": "LayoutModel",
      "_view_count": null,
      "_view_module": "@jupyter-widgets/base",
      "_view_module_version": "1.2.0",
      "_view_name": "LayoutView",
      "align_content": null,
      "align_items": null,
      "align_self": null,
      "border": null,
      "bottom": null,
      "display": null,
      "flex": null,
      "flex_flow": null,
      "grid_area": null,
      "grid_auto_columns": null,
      "grid_auto_flow": null,
      "grid_auto_rows": null,
      "grid_column": null,
      "grid_gap": null,
      "grid_row": null,
      "grid_template_areas": null,
      "grid_template_columns": null,
      "grid_template_rows": null,
      "height": null,
      "justify_content": null,
      "justify_items": null,
      "left": null,
      "margin": null,
      "max_height": null,
      "max_width": null,
      "min_height": null,
      "min_width": null,
      "object_fit": null,
      "object_position": null,
      "order": null,
      "overflow": null,
      "overflow_x": null,
      "overflow_y": null,
      "padding": null,
      "right": null,
      "top": null,
      "visibility": null,
      "width": null
     }
    },
    "d70dca861f944b3b85ab9e687a63bf3e": {
     "model_module": "@jupyter-widgets/base",
     "model_module_version": "1.2.0",
     "model_name": "LayoutModel",
     "state": {
      "_model_module": "@jupyter-widgets/base",
      "_model_module_version": "1.2.0",
      "_model_name": "LayoutModel",
      "_view_count": null,
      "_view_module": "@jupyter-widgets/base",
      "_view_module_version": "1.2.0",
      "_view_name": "LayoutView",
      "align_content": null,
      "align_items": null,
      "align_self": null,
      "border": null,
      "bottom": null,
      "display": null,
      "flex": null,
      "flex_flow": null,
      "grid_area": null,
      "grid_auto_columns": null,
      "grid_auto_flow": null,
      "grid_auto_rows": null,
      "grid_column": null,
      "grid_gap": null,
      "grid_row": null,
      "grid_template_areas": null,
      "grid_template_columns": null,
      "grid_template_rows": null,
      "height": null,
      "justify_content": null,
      "justify_items": null,
      "left": null,
      "margin": null,
      "max_height": null,
      "max_width": null,
      "min_height": null,
      "min_width": null,
      "object_fit": null,
      "object_position": null,
      "order": null,
      "overflow": null,
      "overflow_x": null,
      "overflow_y": null,
      "padding": null,
      "right": null,
      "top": null,
      "visibility": null,
      "width": null
     }
    },
    "e86e90eef7874328a91ce248fb7ea5e0": {
     "model_module": "@jupyter-widgets/controls",
     "model_module_version": "1.5.0",
     "model_name": "ProgressStyleModel",
     "state": {
      "_model_module": "@jupyter-widgets/controls",
      "_model_module_version": "1.5.0",
      "_model_name": "ProgressStyleModel",
      "_view_count": null,
      "_view_module": "@jupyter-widgets/base",
      "_view_module_version": "1.2.0",
      "_view_name": "StyleView",
      "bar_color": null,
      "description_width": ""
     }
    },
    "ee48ba83fa1d4d0fb09944e6828b76ab": {
     "model_module": "@jupyter-widgets/controls",
     "model_module_version": "1.5.0",
     "model_name": "DescriptionStyleModel",
     "state": {
      "_model_module": "@jupyter-widgets/controls",
      "_model_module_version": "1.5.0",
      "_model_name": "DescriptionStyleModel",
      "_view_count": null,
      "_view_module": "@jupyter-widgets/base",
      "_view_module_version": "1.2.0",
      "_view_name": "StyleView",
      "description_width": ""
     }
    },
    "fc4e5226031e45b2b7ac8eeccdfc8e3f": {
     "model_module": "@jupyter-widgets/controls",
     "model_module_version": "1.5.0",
     "model_name": "FloatProgressModel",
     "state": {
      "_dom_classes": [],
      "_model_module": "@jupyter-widgets/controls",
      "_model_module_version": "1.5.0",
      "_model_name": "FloatProgressModel",
      "_view_count": null,
      "_view_module": "@jupyter-widgets/controls",
      "_view_module_version": "1.5.0",
      "_view_name": "ProgressView",
      "bar_style": "success",
      "description": "",
      "description_tooltip": null,
      "layout": "IPY_MODEL_d70dca861f944b3b85ab9e687a63bf3e",
      "max": 50,
      "min": 0,
      "orientation": "horizontal",
      "style": "IPY_MODEL_e86e90eef7874328a91ce248fb7ea5e0",
      "value": 50
     }
    }
   }
  }
 },
 "nbformat": 4,
 "nbformat_minor": 0
}
