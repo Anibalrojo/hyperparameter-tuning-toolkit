{
 "cells": [
  {
   "cell_type": "markdown",
   "metadata": {
    "id": "FeQuTjz3JG_0"
   },
   "source": [
    "# Breast Cancer Classification: Hyperparameter Tuning with Genetic Algorithms"
   ]
  },
  {
   "cell_type": "markdown",
   "metadata": {
    "id": "Rq4yRjC6KnZ7"
   },
   "source": [
    "This notebook demonstrates a more advanced hyperparameter tuning technique: **Genetic Algorithms (GA)**. We will use the `DEAP` library to build a custom GA to find the optimal hyperparameters for a `RandomForestClassifier` on the Breast Cancer Wisconsin dataset.\n",
    "\n",
    "The main modules from **DEAP** we will use are:\n",
    "- `base`: To register functions in the \"toolbox\".\n",
    "- `creator`: To create custom types (e.g., individuals, fitness).\n",
    "- `tools`: To define genetic operators like selection, crossover, and mutation."
   ]
  },
  {
   "cell_type": "code",
   "execution_count": 1,
   "metadata": {
    "executionInfo": {
     "elapsed": 10816,
     "status": "ok",
     "timestamp": 1751852505465,
     "user": {
      "displayName": "Aníbal Rojo",
      "userId": "05596267674606337960"
     },
     "user_tz": 240
    },
    "id": "28r1w9_2JdlE"
   },
   "outputs": [],
   "source": [
    "# Core libraries\n",
    "import numpy as np\n",
    "import pandas as pd\n",
    "import warnings\n",
    "import random\n",
    "import time\n",
    "import os\n",
    "import sys\n",
    "import matplotlib.pyplot as plt\n",
    "\n",
    "# Scikit-learn\n",
    "from sklearn.preprocessing import StandardScaler\n",
    "from sklearn.model_selection import train_test_split, cross_val_score\n",
    "from sklearn.ensemble import RandomForestClassifier\n",
    "from sklearn.metrics import classification_report, accuracy_score\n",
    "\n",
    "# DEAP for Genetic Algorithms\n",
    "from deap import base, creator, tools\n",
    "\n",
    "# Add src to path for custom modules\n",
    "module_path = os.path.abspath(os.path.join('..'))\n",
    "if module_path not in sys.path:\n",
    "    sys.path.append(module_path)\n",
    "\n",
    "from src.visualization import visualize\n",
    "\n",
    "warnings.filterwarnings(\"ignore\")  # Suppress potential warnings"
   ]
  },
  {
   "cell_type": "markdown",
   "metadata": {
    "id": "VWT2217ZJI33"
   },
   "source": [
    "## 1. Data Loading and Preprocessing\n",
    "\n",
    "The **Breast Cancer Wisconsin** dataset is used for this analysis. All preprocessing, including loading the raw data, splitting it into training and testing sets, and scaling the features, is now handled by our centralized script `src/features/build_features.py`.\n",
    "\n",
    "We can now load the final, processed data directly from the `data/02_processed` folder, ensuring a consistent and reproducible setup."
   ]
  },
  {
   "cell_type": "code",
   "execution_count": 2,
   "metadata": {
    "colab": {
     "base_uri": "https://localhost:8080/"
    },
    "executionInfo": {
     "elapsed": 67,
     "status": "ok",
     "timestamp": 1751852505547,
     "user": {
      "displayName": "Aníbal Rojo",
      "userId": "05596267674606337960"
     },
     "user_tz": 240
    },
    "id": "mWKUzCQVIwXr",
    "outputId": "0a18f871-3fab-4ac5-83c6-434d2a1b5a1c"
   },
   "outputs": [
    {
     "name": "stdout",
     "output_type": "stream",
     "text": [
      "Training data shape: (398, 30), Test data shape: (171, 30)\n"
     ]
    }
   ],
   "source": [
    "# Define paths to the processed data\n",
    "PROCESSED_DATA_PATH = \"../data/02_processed/\"\n",
    "\n",
    "X_train = pd.read_csv(os.path.join(PROCESSED_DATA_PATH, 'cancer_X_train.csv'))\n",
    "X_test = pd.read_csv(os.path.join(PROCESSED_DATA_PATH, 'cancer_X_test.csv'))\n",
    "y_train = pd.read_csv(os.path.join(PROCESSED_DATA_PATH, 'cancer_y_train.csv')).squeeze()\n",
    "y_test = pd.read_csv(os.path.join(PROCESSED_DATA_PATH, 'cancer_y_test.csv')).squeeze()\n",
    "\n",
    "# Verify the dimensions\n",
    "print(f\"Training data shape: {X_train.shape}, Test data shape: {X_test.shape}\")"
   ]
  },
  {
   "cell_type": "markdown",
   "metadata": {
    "id": "lLXhVII2Jz9u"
   },
   "source": [
    "## 2. Defining the Genetic Algorithm Environment with DEAP\n",
    "\n",
    "To use a GA, we must first configure the **evolutionary environment** using the `DEAP` library. This involves defining the structure of our \"individuals\" (potential solutions) and the genetic operators that will act on them.\n",
    "\n",
    "Specifically, we will define:\n",
    "\n",
    "-   **Individuals**: Each individual will be a list of three integers representing the model's hyperparameters:\n",
    "    -   `n_estimators`: Number of trees in the Random Forest (range: 10 to 200).\n",
    "    -   `max_depth`: Maximum depth of each tree (range: 2 to 20).\n",
    "    -   `min_samples_split`: Minimum samples required to split a node (range: 2 to 20).\n",
    "-   **Fitness Function**: We will define a fitness function to be maximized. Since we want to maximize the F1-score, we use `weights=(1.0,)`.\n",
    "-   **Genetic Operators**:\n",
    "    -   `select`: The selection operator will be a binary tournament.\n",
    "    -   `mate`: The crossover operator will be a uniform crossover (`cxUniform`).\n",
    "    -   `mutate`: The mutation operator will be a uniform integer mutation (`mutUniformInt`).\n",
    "\n",
    "This setup allows us to create an initial population of candidate solutions and then apply evolutionary operators to explore the solution space."
   ]
  },
  {
   "cell_type": "code",
   "execution_count": 3,
   "metadata": {
    "colab": {
     "base_uri": "https://localhost:8080/"
    },
    "executionInfo": {
     "elapsed": 33,
     "status": "ok",
     "timestamp": 1751852505598,
     "user": {
      "displayName": "Aníbal Rojo",
      "userId": "05596267674606337960"
     },
     "user_tz": 240
    },
    "id": "06DI4lzeKNnI",
    "outputId": "78623cca-c4c2-4b29-f77e-12bb7976b294"
   },
   "outputs": [
    {
     "name": "stdout",
     "output_type": "stream",
     "text": [
      "Example of an individual: [164, 8, 18]\n"
     ]
    }
   ],
   "source": [
    "# Define the problem type: Maximizing F1-score\n",
    "creator.create(\"FitnessMax\", base.Fitness, weights=(1.0,))\n",
    "creator.create(\"Individual\", list, fitness=creator.FitnessMax)\n",
    "\n",
    "toolbox = base.Toolbox()\n",
    "\n",
    "# Define genes (hyperparameters)\n",
    "toolbox.register(\"n_estimators\", random.randint, 10, 200)\n",
    "toolbox.register(\"max_depth\", random.randint, 2, 20)\n",
    "toolbox.register(\"min_samples_split\", random.randint, 2, 20)\n",
    "\n",
    "# Create an individual (a list containing the 3 hyperparameters)\n",
    "toolbox.register(\n",
    "    \"individual\", \n",
    "    tools.initCycle,\n",
    "    creator.Individual,\n",
    "    (toolbox.n_estimators, toolbox.max_depth, toolbox.min_samples_split),\n",
    "    n=1  # e.g., an individual could be [150, 8, 4]\n",
    ")\n",
    "\n",
    "# Create a population (a list of individuals)\n",
    "toolbox.register(\"population\", tools.initRepeat, list, toolbox.individual)\n",
    "\n",
    "# Define the genetic operators\n",
    "toolbox.register(\"mate\", tools.cxUniform, indpb=0.5)  # 50% probability of swapping each gene\n",
    "toolbox.register(\"mutate\", tools.mutUniformInt, low=[10, 2, 2], up=[200, 20, 20], indpb=0.2)  # 20% probability of mutating each gene\n",
    "toolbox.register(\"select\", tools.selTournament, tournsize=3)\n",
    "\n",
    "# Create an initial population (e.g., 20 individuals)\n",
    "population = toolbox.population(n=20)\n",
    "\n",
    "# View an example individual\n",
    "print(\"Example of an individual:\", population[0])"
   ]
  },
  {
   "cell_type": "markdown",
   "metadata": {
    "id": "NKew9JkbMfEd"
   },
   "source": [
    "## 3. Defining the Fitness Function\n",
    "\n",
    "The fitness function is the core of the genetic algorithm. It determines how \"good\" a given individual (i.e., a combination of hyperparameters) is.\n",
    "\n",
    "We will use the **mean F1-score** from a **5-fold stratified cross-validation** as our fitness metric. This is a robust choice for binary classification, especially with potentially imbalanced classes.\n",
    "\n",
    "The function takes an individual as input, unpacks its genes to get the hyperparameters, trains a `RandomForestClassifier` with them, and returns the mean F1-score from the cross-validation. This score is what the GA will attempt to maximize over generations."
   ]
  },
  {
   "cell_type": "code",
   "execution_count": 4,
   "metadata": {
    "colab": {
     "base_uri": "https://localhost:8080/"
    },
    "executionInfo": {
     "elapsed": 9227,
     "status": "ok",
     "timestamp": 1751852514828,
     "user": {
      "displayName": "Aníbal Rojo",
      "userId": "05596267674606337960"
     },
     "user_tz": 240
    },
    "id": "7z6Grn_8M4a1",
    "outputId": "6c1f71a6-bb3b-4fac-8b4c-fc66dee10350"
   },
   "outputs": [
    {
     "name": "stdout",
     "output_type": "stream",
     "text": [
      "Individual: [164, 8, 18], Average F1-score (CV): 0.9721\n"
     ]
    }
   ],
   "source": [
    "# Define the fitness function\n",
    "def evaluate(individual):\n",
    "    # Unpack the genes (hyperparameters)\n",
    "    n_estimators, max_depth, min_samples_split = individual\n",
    "\n",
    "    # Create the model with the current hyperparameters\n",
    "    clf = RandomForestClassifier(\n",
    "        n_estimators=n_estimators,\n",
    "        max_depth=max_depth,\n",
    "        min_samples_split=min_samples_split,\n",
    "        random_state=42,\n",
    "        n_jobs=-1  # Use all available cores\n",
    "    )\n",
    "\n",
    "    # Evaluate with cross-validation (stratified by default)\n",
    "    scores = cross_val_score(clf, X_train, y_train, cv=5, scoring='f1')\n",
    "\n",
    "    # Return the mean score as a tuple (required by DEAP)\n",
    "    return (scores.mean(),)\n",
    "\n",
    "# Register the fitness function in the toolbox\n",
    "toolbox.register(\"evaluate\", evaluate)\n",
    "\n",
    "# Test the evaluation function on one individual\n",
    "test_individual = population[0]\n",
    "score = evaluate(test_individual)\n",
    "print(f\"Individual: {test_individual}, Average F1-score (CV): {score[0]:.4f}\")"
   ]
  },
  {
   "cell_type": "markdown",
   "metadata": {
    "id": "OY5yT1JfVdHz"
   },
   "source": [
    "## 4. Running the Genetic Algorithm\n",
    "\n",
    "Now we execute the genetic algorithm. For a set number of generations (`NGEN`), we will apply the evolutionary operators we defined:\n",
    "\n",
    "-   **Selection**: The fittest individuals are selected via a tournament.\n",
    "-   **Crossover**: The selected parents are \"mated\" to create offspring.\n",
    "-   **Mutation**: Some genes in the offspring are randomly mutated.\n",
    "-   **Evaluation**: The F1-score (fitness) of the new individuals is calculated.\n",
    "\n",
    "In each generation, we will track the maximum and average fitness of the population. At the end of the process, we will identify the single best individual found across all generations."
   ]
  },
  {
   "cell_type": "code",
   "execution_count": 5,
   "metadata": {
    "colab": {
     "base_uri": "https://localhost:8080/"
    },
    "executionInfo": {
     "elapsed": 420654,
     "status": "ok",
     "timestamp": 1751852935484,
     "user": {
      "displayName": "Aníbal Rojo",
      "userId": "05596267674606337960"
     },
     "user_tz": 240
    },
    "id": "ER5VcLNPVZyd",
    "outputId": "d17b0c24-68e4-4b09-f386-7c76fd41af3a"
   },
   "outputs": [
    {
     "name": "stdout",
     "output_type": "stream",
     "text": [
      "Generation 1: Max F1 = 0.9781, Avg F1 = 0.9738\n",
      "Generation 2: Max F1 = 0.9781, Avg F1 = 0.9755\n",
      "Generation 3: Max F1 = 0.9781, Avg F1 = 0.9771\n",
      "Generation 4: Max F1 = 0.9781, Avg F1 = 0.9777\n",
      "Generation 5: Max F1 = 0.9781, Avg F1 = 0.9781\n",
      "Generation 6: Max F1 = 0.9781, Avg F1 = 0.9781\n",
      "Generation 7: Max F1 = 0.9781, Avg F1 = 0.9779\n",
      "Generation 8: Max F1 = 0.9781, Avg F1 = 0.9776\n",
      "Generation 9: Max F1 = 0.9781, Avg F1 = 0.9773\n",
      "Generation 10: Max F1 = 0.9781, Avg F1 = 0.9781\n",
      "Generation 11: Max F1 = 0.9781, Avg F1 = 0.9770\n",
      "Generation 12: Max F1 = 0.9781, Avg F1 = 0.9778\n",
      "Generation 13: Max F1 = 0.9781, Avg F1 = 0.9779\n",
      "Generation 14: Max F1 = 0.9781, Avg F1 = 0.9780\n",
      "Generation 15: Max F1 = 0.9781, Avg F1 = 0.9768\n",
      "\n",
      "Total GA execution time: 680.95 seconds\n"
     ]
    }
   ],
   "source": [
    "# Evolutionary parameters\n",
    "NGEN = 15            # Number of generations\n",
    "CXPB = 0.7           # Crossover probability\n",
    "MUTPB = 0.2          # Mutation probability\n",
    "\n",
    "# To store statistics for each generation\n",
    "max_fitness_values = []\n",
    "avg_fitness_values = []\n",
    "\n",
    "# Start timing the evolution\n",
    "start_time = time.time()\n",
    "\n",
    "# Evaluate the initial population\n",
    "fitnesses = list(map(toolbox.evaluate, population))\n",
    "for ind, fit in zip(population, fitnesses):\n",
    "    ind.fitness.values = fit\n",
    "\n",
    "# The evolution loop\n",
    "for gen in range(NGEN):\n",
    "    # Select and clone the next generation's parents\n",
    "    offspring = toolbox.select(population, len(population))\n",
    "    offspring = list(map(toolbox.clone, offspring))\n",
    "\n",
    "    # Apply crossover\n",
    "    for child1, child2 in zip(offspring[::2], offspring[1::2]):\n",
    "        if random.random() < CXPB:\n",
    "            toolbox.mate(child1, child2)\n",
    "            del child1.fitness.values\n",
    "            del child2.fitness.values\n",
    "\n",
    "    # Apply mutation\n",
    "    for mutant in offspring:\n",
    "        if random.random() < MUTPB:\n",
    "            toolbox.mutate(mutant)\n",
    "            del mutant.fitness.values\n",
    "\n",
    "    # Evaluate the new individuals\n",
    "    invalid_ind = [ind for ind in offspring if not ind.fitness.valid]\n",
    "    fitnesses = map(toolbox.evaluate, invalid_ind)\n",
    "    for ind, fit in zip(invalid_ind, fitnesses):\n",
    "        ind.fitness.values = fit\n",
    "\n",
    "    # Replace the old population with the new offspring\n",
    "    population[:] = offspring\n",
    "\n",
    "    # Gather and print statistics for the generation\n",
    "    fits = [ind.fitness.values[0] for ind in population]\n",
    "    max_fitness = max(fits)\n",
    "    avg_fitness = sum(fits) / len(fits)\n",
    "    max_fitness_values.append(max_fitness)\n",
    "    avg_fitness_values.append(avg_fitness)\n",
    "\n",
    "    print(f\"Generation {gen + 1}: Max F1 = {max_fitness:.4f}, Avg F1 = {avg_fitness:.4f}\")\n",
    "\n",
    "end_time = time.time()\n",
    "ga_execution_time = end_time - start_time\n",
    "print(f\"\\nTotal GA execution time: {ga_execution_time:.2f} seconds\")"
   ]
  },
  {
   "cell_type": "code",
   "execution_count": 6,
   "metadata": {
    "colab": {
     "base_uri": "https://localhost:8080/",
     "height": 541
    },
    "executionInfo": {
     "elapsed": 2137,
     "status": "ok",
     "timestamp": 1751852937617,
     "user": {
      "displayName": "Aníbal Rojo",
      "userId": "05596267674606337960"
     },
     "user_tz": 240
    },
    "id": "xEIOvT_6iPCm",
    "outputId": "f03d6214-693e-473b-b69e-67524e989d8b"
   },
   "outputs": [
    {
     "name": "stdout",
     "output_type": "stream",
     "text": [
      "\n",
      "Best individual found:\n",
      "Parameters: n_estimators=186, max_depth=14, min_samples_split=4\n",
      "Estimated CV F1-score: 0.9781\n"
     ]
    },
    {
     "data": {
      "image/png": "[encoded data removed]",
      "text/plain": [
       "<Figure size 1000x600 with 1 Axes>"
      ]
     },
     "metadata": {},
     "output_type": "display_data"
    }
   ],
   "source": [
    "# Get the best individual from the final population\n",
    "best_individual = tools.selBest(population, 1)[0]\n",
    "print(\"\\nBest individual found:\")\n",
    "print(f\"Parameters: n_estimators={best_individual[0]}, max_depth={best_individual[1]}, min_samples_split={best_individual[2]}\")\n",
    "print(f\"Estimated CV F1-score: {evaluate(best_individual)[0]:.4f}\")\n",
    "\n",
    "# Plot the evolution of the F1-score over generations\n",
    "plt.figure(figsize=(10, 6))\n",
    "plt.plot(max_fitness_values, label='Max F1')\n",
    "plt.plot(avg_fitness_values, label='Average F1')\n",
    "plt.xlabel('Generation')\n",
    "plt.ylabel('F1-score')\n",
    "plt.title('Evolution of F1-score per Generation')\n",
    "plt.legend()\n",
    "plt.grid(True)\n",
    "plt.show()"
   ]
  },
  {
   "cell_type": "markdown",
   "metadata": {
    "id": "MDAFncVniT0h"
   },
   "source": [
    "## 5. Final Model Evaluation\n",
    "\n",
    "Using the best hyperparameter combination found by the GA, we will now train a final `RandomForestClassifier` on the entire training set.\n",
    "\n",
    "We will then evaluate its performance on the hold-out test set, which was not used during the GA's training or cross-validation process. This provides an unbiased estimate of the model's performance on new data. We will compare this optimized model to a baseline model with default parameters."
   ]
  },
  {
   "cell_type": "code",
   "execution_count": 7,
   "metadata": {
    "colab": {
     "base_uri": "https://localhost:8080/"
    },
    "executionInfo": {
     "elapsed": 16,
     "status": "ok",
     "timestamp": 1751852937651,
     "user": {
      "displayName": "Aníbal Rojo",
      "userId": "05596267674606337960"
     },
     "user_tz": 240
    },
    "id": "2qVf12DbilTq",
    "outputId": "dda79d29-0cad-42a4-ba25-0f33b44965e5"
   },
   "outputs": [
    {
     "data": {
      "text/html": [
       "<style>#sk-container-id-1 {\n",
       "  /* Definition of color scheme common for light and dark mode */\n",
       "  --sklearn-color-text: black;\n",
       "  --sklearn-color-line: gray;\n",
       "  /* Definition of color scheme for unfitted estimators */\n",
       "  --sklearn-color-unfitted-level-0: #fff5e6;\n",
       "  --sklearn-color-unfitted-level-1: #f6e4d2;\n",
       "  --sklearn-color-unfitted-level-2: #ffe0b3;\n",
       "  --sklearn-color-unfitted-level-3: chocolate;\n",
       "  /* Definition of color scheme for fitted estimators */\n",
       "  --sklearn-color-fitted-level-0: #f0f8ff;\n",
       "  --sklearn-color-fitted-level-1: #d4ebff;\n",
       "  --sklearn-color-fitted-level-2: #b3dbfd;\n",
       "  --sklearn-color-fitted-level-3: cornflowerblue;\n",
       "\n",
       "  /* Specific color for light theme */\n",
       "  --sklearn-color-text-on-default-background: var(--sg-text-color, var(--theme-code-foreground, var(--jp-content-font-color1, black)));\n",
       "  --sklearn-color-background: var(--sg-background-color, var(--theme-background, var(--jp-layout-color0, white)));\n",
       "  --sklearn-color-border-box: var(--sg-text-color, var(--theme-code-foreground, var(--jp-content-font-color1, black)));\n",
       "  --sklearn-color-icon: #696969;\n",
       "\n",
       "  @media (prefers-color-scheme: dark) {\n",
       "    /* Redefinition of color scheme for dark theme */\n",
       "    --sklearn-color-text-on-default-background: var(--sg-text-color, var(--theme-code-foreground, var(--jp-content-font-color1, white)));\n",
       "    --sklearn-color-background: var(--sg-background-color, var(--theme-background, var(--jp-layout-color0, #111)));\n",
       "    --sklearn-color-border-box: var(--sg-text-color, var(--theme-code-foreground, var(--jp-content-font-color1, white)));\n",
       "    --sklearn-color-icon: #878787;\n",
       "  }\n",
       "}\n",
       "\n",
       "#sk-container-id-1 {\n",
       "  color: var(--sklearn-color-text);\n",
       "}\n",
       "\n",
       "#sk-container-id-1 pre {\n",
       "  padding: 0;\n",
       "}\n",
       "\n",
       "#sk-container-id-1 input.sk-hidden--visually {\n",
       "  border: 0;\n",
       "  clip: rect(1px 1px 1px 1px);\n",
       "  clip: rect(1px, 1px, 1px, 1px);\n",
       "  height: 1px;\n",
       "  margin: -1px;\n",
       "  overflow: hidden;\n",
       "  padding: 0;\n",
       "  position: absolute;\n",
       "  width: 1px;\n",
       "}\n",
       "\n",
       "#sk-container-id-1 div.sk-dashed-wrapped {\n",
       "  border: 1px dashed var(--sklearn-color-line);\n",
       "  margin: 0 0.4em 0.5em 0.4em;\n",
       "  box-sizing: border-box;\n",
       "  padding-bottom: 0.4em;\n",
       "  background-color: var(--sklearn-color-background);\n",
       "}\n",
       "\n",
       "#sk-container-id-1 div.sk-container {\n",
       "  /* jupyter's `normalize.less` sets `[hidden] { display: none; }`\n",
       "     but bootstrap.min.css set `[hidden] { display: none !important; }`\n",
       "     so we also need the `!important` here to be able to override the\n",
       "     default hidden behavior on the sphinx rendered scikit-learn.org.\n",
       "     See: https://github.com/scikit-learn/scikit-learn/issues/21755 */\n",
       "  display: inline-block !important;\n",
       "  position: relative;\n",
       "}\n",
       "\n",
       "#sk-container-id-1 div.sk-text-repr-fallback {\n",
       "  display: none;\n",
       "}\n",
       "\n",
       "div.sk-parallel-item,\n",
       "div.sk-serial,\n",
       "div.sk-item {\n",
       "  /* draw centered vertical line to link estimators */\n",
       "  background-image: linear-gradient(var(--sklearn-color-text-on-default-background), var(--sklearn-color-text-on-default-background));\n",
       "  background-size: 2px 100%;\n",
       "  background-repeat: no-repeat;\n",
       "  background-position: center center;\n",
       "}\n",
       "\n",
       "/* Parallel-specific style estimator block */\n",
       "\n",
       "#sk-container-id-1 div.sk-parallel-item::after {\n",
       "  content: \"\";\n",
       "  width: 100%;\n",
       "  border-bottom: 2px solid var(--sklearn-color-text-on-default-background);\n",
       "  flex-grow: 1;\n",
       "}\n",
       "\n",
       "#sk-container-id-1 div.sk-parallel {\n",
       "  display: flex;\n",
       "  align-items: stretch;\n",
       "  justify-content: center;\n",
       "  background-color: var(--sklearn-color-background);\n",
       "  position: relative;\n",
       "}\n",
       "\n",
       "#sk-container-id-1 div.sk-parallel-item {\n",
       "  display: flex;\n",
       "  flex-direction: column;\n",
       "}\n",
       "\n",
       "#sk-container-id-1 div.sk-parallel-item:first-child::after {\n",
       "  align-self: flex-end;\n",
       "  width: 50%;\n",
       "}\n",
       "\n",
       "#sk-container-id-1 div.sk-parallel-item:last-child::after {\n",
       "  align-self: flex-start;\n",
       "  width: 50%;\n",
       "}\n",
       "\n",
       "#sk-container-id-1 div.sk-parallel-item:only-child::after {\n",
       "  width: 0;\n",
       "}\n",
       "\n",
       "/* Serial-specific style estimator block */\n",
       "\n",
       "#sk-container-id-1 div.sk-serial {\n",
       "  display: flex;\n",
       "  flex-direction: column;\n",
       "  align-items: center;\n",
       "  background-color: var(--sklearn-color-background);\n",
       "  padding-right: 1em;\n",
       "  padding-left: 1em;\n",
       "}\n",
       "\n",
       "\n",
       "/* Toggleable style: style used for estimator/Pipeline/ColumnTransformer box that is\n",
       "clickable and can be expanded/collapsed.\n",
       "- Pipeline and ColumnTransformer use this feature and define the default style\n",
       "- Estimators will overwrite some part of the style using the `sk-estimator` class\n",
       "*/\n",
       "\n",
       "/* Pipeline and ColumnTransformer style (default) */\n",
       "\n",
       "#sk-container-id-1 div.sk-toggleable {\n",
       "  /* Default theme specific background. It is overwritten whether we have a\n",
       "  specific estimator or a Pipeline/ColumnTransformer */\n",
       "  background-color: var(--sklearn-color-background);\n",
       "}\n",
       "\n",
       "/* Toggleable label */\n",
       "#sk-container-id-1 label.sk-toggleable__label {\n",
       "  cursor: pointer;\n",
       "  display: block;\n",
       "  width: 100%;\n",
       "  margin-bottom: 0;\n",
       "  padding: 0.5em;\n",
       "  box-sizing: border-box;\n",
       "  text-align: center;\n",
       "}\n",
       "\n",
       "#sk-container-id-1 label.sk-toggleable__label-arrow:before {\n",
       "  /* Arrow on the left of the label */\n",
       "  content: \"▸\";\n",
       "  float: left;\n",
       "  margin-right: 0.25em;\n",
       "  color: var(--sklearn-color-icon);\n",
       "}\n",
       "\n",
       "#sk-container-id-1 label.sk-toggleable__label-arrow:hover:before {\n",
       "  color: var(--sklearn-color-text);\n",
       "}\n",
       "\n",
       "/* Toggleable content - dropdown */\n",
       "\n",
       "#sk-container-id-1 div.sk-toggleable__content {\n",
       "  max-height: 0;\n",
       "  max-width: 0;\n",
       "  overflow: hidden;\n",
       "  text-align: left;\n",
       "  /* unfitted */\n",
       "  background-color: var(--sklearn-color-unfitted-level-0);\n",
       "}\n",
       "\n",
       "#sk-container-id-1 div.sk-toggleable__content.fitted {\n",
       "  /* fitted */\n",
       "  background-color: var(--sklearn-color-fitted-level-0);\n",
       "}\n",
       "\n",
       "#sk-container-id-1 div.sk-toggleable__content pre {\n",
       "  margin: 0.2em;\n",
       "  border-radius: 0.25em;\n",
       "  color: var(--sklearn-color-text);\n",
       "  /* unfitted */\n",
       "  background-color: var(--sklearn-color-unfitted-level-0);\n",
       "}\n",
       "\n",
       "#sk-container-id-1 div.sk-toggleable__content.fitted pre {\n",
       "  /* unfitted */\n",
       "  background-color: var(--sklearn-color-fitted-level-0);\n",
       "}\n",
       "\n",
       "#sk-container-id-1 input.sk-toggleable__control:checked~div.sk-toggleable__content {\n",
       "  /* Expand drop-down */\n",
       "  max-height: 200px;\n",
       "  max-width: 100%;\n",
       "  overflow: auto;\n",
       "}\n",
       "\n",
       "#sk-container-id-1 input.sk-toggleable__control:checked~label.sk-toggleable__label-arrow:before {\n",
       "  content: \"▾\";\n",
       "}\n",
       "\n",
       "/* Pipeline/ColumnTransformer-specific style */\n",
       "\n",
       "#sk-container-id-1 div.sk-label input.sk-toggleable__control:checked~label.sk-toggleable__label {\n",
       "  color: var(--sklearn-color-text);\n",
       "  background-color: var(--sklearn-color-unfitted-level-2);\n",
       "}\n",
       "\n",
       "#sk-container-id-1 div.sk-label.fitted input.sk-toggleable__control:checked~label.sk-toggleable__label {\n",
       "  background-color: var(--sklearn-color-fitted-level-2);\n",
       "}\n",
       "\n",
       "/* Estimator-specific style */\n",
       "\n",
       "/* Colorize estimator box */\n",
       "#sk-container-id-1 div.sk-estimator input.sk-toggleable__control:checked~label.sk-toggleable__label {\n",
       "  /* unfitted */\n",
       "  background-color: var(--sklearn-color-unfitted-level-2);\n",
       "}\n",
       "\n",
       "#sk-container-id-1 div.sk-estimator.fitted input.sk-toggleable__control:checked~label.sk-toggleable__label {\n",
       "  /* fitted */\n",
       "  background-color: var(--sklearn-color-fitted-level-2);\n",
       "}\n",
       "\n",
       "#sk-container-id-1 div.sk-label label.sk-toggleable__label,\n",
       "#sk-container-id-1 div.sk-label label {\n",
       "  /* The background is the default theme color */\n",
       "  color: var(--sklearn-color-text-on-default-background);\n",
       "}\n",
       "\n",
       "/* On hover, darken the color of the background */\n",
       "#sk-container-id-1 div.sk-label:hover label.sk-toggleable__label {\n",
       "  color: var(--sklearn-color-text);\n",
       "  background-color: var(--sklearn-color-unfitted-level-2);\n",
       "}\n",
       "\n",
       "/* Label box, darken color on hover, fitted */\n",
       "#sk-container-id-1 div.sk-label.fitted:hover label.sk-toggleable__label.fitted {\n",
       "  color: var(--sklearn-color-text);\n",
       "  background-color: var(--sklearn-color-fitted-level-2);\n",
       "}\n",
       "\n",
       "/* Estimator label */\n",
       "\n",
       "#sk-container-id-1 div.sk-label label {\n",
       "  font-family: monospace;\n",
       "  font-weight: bold;\n",
       "  display: inline-block;\n",
       "  line-height: 1.2em;\n",
       "}\n",
       "\n",
       "#sk-container-id-1 div.sk-label-container {\n",
       "  text-align: center;\n",
       "}\n",
       "\n",
       "/* Estimator-specific */\n",
       "#sk-container-id-1 div.sk-estimator {\n",
       "  font-family: monospace;\n",
       "  border: 1px dotted var(--sklearn-color-border-box);\n",
       "  border-radius: 0.25em;\n",
       "  box-sizing: border-box;\n",
       "  margin-bottom: 0.5em;\n",
       "  /* unfitted */\n",
       "  background-color: var(--sklearn-color-unfitted-level-0);\n",
       "}\n",
       "\n",
       "#sk-container-id-1 div.sk-estimator.fitted {\n",
       "  /* fitted */\n",
       "  background-color: var(--sklearn-color-fitted-level-0);\n",
       "}\n",
       "\n",
       "/* on hover */\n",
       "#sk-container-id-1 div.sk-estimator:hover {\n",
       "  /* unfitted */\n",
       "  background-color: var(--sklearn-color-unfitted-level-2);\n",
       "}\n",
       "\n",
       "#sk-container-id-1 div.sk-estimator.fitted:hover {\n",
       "  /* fitted */\n",
       "  background-color: var(--sklearn-color-fitted-level-2);\n",
       "}\n",
       "\n",
       "/* Specification for estimator info (e.g. \"i\" and \"?\") */\n",
       "\n",
       "/* Common style for \"i\" and \"?\" */\n",
       "\n",
       ".sk-estimator-doc-link,\n",
       "a:link.sk-estimator-doc-link,\n",
       "a:visited.sk-estimator-doc-link {\n",
       "  float: right;\n",
       "  font-size: smaller;\n",
       "  line-height: 1em;\n",
       "  font-family: monospace;\n",
       "  background-color: var(--sklearn-color-background);\n",
       "  border-radius: 1em;\n",
       "  height: 1em;\n",
       "  width: 1em;\n",
       "  text-decoration: none !important;\n",
       "  margin-left: 1ex;\n",
       "  /* unfitted */\n",
       "  border: var(--sklearn-color-unfitted-level-1) 1pt solid;\n",
       "  color: var(--sklearn-color-unfitted-level-1);\n",
       "}\n",
       "\n",
       ".sk-estimator-doc-link.fitted,\n",
       "a:link.sk-estimator-doc-link.fitted,\n",
       "a:visited.sk-estimator-doc-link.fitted {\n",
       "  /* fitted */\n",
       "  border: var(--sklearn-color-fitted-level-1) 1pt solid;\n",
       "  color: var(--sklearn-color-fitted-level-1);\n",
       "}\n",
       "\n",
       "/* On hover */\n",
       "div.sk-estimator:hover .sk-estimator-doc-link:hover,\n",
       ".sk-estimator-doc-link:hover,\n",
       "div.sk-label-container:hover .sk-estimator-doc-link:hover,\n",
       ".sk-estimator-doc-link:hover {\n",
       "  /* unfitted */\n",
       "  background-color: var(--sklearn-color-unfitted-level-3);\n",
       "  color: var(--sklearn-color-background);\n",
       "  text-decoration: none;\n",
       "}\n",
       "\n",
       "div.sk-estimator.fitted:hover .sk-estimator-doc-link.fitted:hover,\n",
       ".sk-estimator-doc-link.fitted:hover,\n",
       "div.sk-label-container:hover .sk-estimator-doc-link.fitted:hover,\n",
       ".sk-estimator-doc-link.fitted:hover {\n",
       "  /* fitted */\n",
       "  background-color: var(--sklearn-color-fitted-level-3);\n",
       "  color: var(--sklearn-color-background);\n",
       "  text-decoration: none;\n",
       "}\n",
       "\n",
       "/* Span, style for the box shown on hovering the info icon */\n",
       ".sk-estimator-doc-link span {\n",
       "  display: none;\n",
       "  z-index: 9999;\n",
       "  position: relative;\n",
       "  font-weight: normal;\n",
       "  right: .2ex;\n",
       "  padding: .5ex;\n",
       "  margin: .5ex;\n",
       "  width: min-content;\n",
       "  min-width: 20ex;\n",
       "  max-width: 50ex;\n",
       "  color: var(--sklearn-color-text);\n",
       "  box-shadow: 2pt 2pt 4pt #999;\n",
       "  /* unfitted */\n",
       "  background: var(--sklearn-color-unfitted-level-0);\n",
       "  border: .5pt solid var(--sklearn-color-unfitted-level-3);\n",
       "}\n",
       "\n",
       ".sk-estimator-doc-link.fitted span {\n",
       "  /* fitted */\n",
       "  background: var(--sklearn-color-fitted-level-0);\n",
       "  border: var(--sklearn-color-fitted-level-3);\n",
       "}\n",
       "\n",
       ".sk-estimator-doc-link:hover span {\n",
       "  display: block;\n",
       "}\n",
       "\n",
       "/* \"?\"-specific style due to the `<a>` HTML tag */\n",
       "\n",
       "#sk-container-id-1 a.estimator_doc_link {\n",
       "  float: right;\n",
       "  font-size: 1rem;\n",
       "  line-height: 1em;\n",
       "  font-family: monospace;\n",
       "  background-color: var(--sklearn-color-background);\n",
       "  border-radius: 1rem;\n",
       "  height: 1rem;\n",
       "  width: 1rem;\n",
       "  text-decoration: none;\n",
       "  /* unfitted */\n",
       "  color: var(--sklearn-color-unfitted-level-1);\n",
       "  border: var(--sklearn-color-unfitted-level-1) 1pt solid;\n",
       "}\n",
       "\n",
       "#sk-container-id-1 a.estimator_doc_link.fitted {\n",
       "  /* fitted */\n",
       "  border: var(--sklearn-color-fitted-level-1) 1pt solid;\n",
       "  color: var(--sklearn-color-fitted-level-1);\n",
       "}\n",
       "\n",
       "/* On hover */\n",
       "#sk-container-id-1 a.estimator_doc_link:hover {\n",
       "  /* unfitted */\n",
       "  background-color: var(--sklearn-color-unfitted-level-3);\n",
       "  color: var(--sklearn-color-background);\n",
       "  text-decoration: none;\n",
       "}\n",
       "\n",
       "#sk-container-id-1 a.estimator_doc_link.fitted:hover {\n",
       "  /* fitted */\n",
       "  background-color: var(--sklearn-color-fitted-level-3);\n",
       "}\n",
       "</style><div id=\"sk-container-id-1\" class=\"sk-top-container\"><div class=\"sk-text-repr-fallback\"><pre>RandomForestClassifier(n_jobs=-1, random_state=42)</pre><b>In a Jupyter environment, please rerun this cell to show the HTML representation or trust the notebook. <br />On GitHub, the HTML representation is unable to render, please try loading this page with nbviewer.org.</b></div><div class=\"sk-container\" hidden><div class=\"sk-item\"><div class=\"sk-estimator fitted sk-toggleable\"><input class=\"sk-toggleable__control sk-hidden--visually\" id=\"sk-estimator-id-1\" type=\"checkbox\" checked><label for=\"sk-estimator-id-1\" class=\"sk-toggleable__label fitted sk-toggleable__label-arrow fitted\">&nbsp;&nbsp;RandomForestClassifier<a class=\"sk-estimator-doc-link fitted\" rel=\"noreferrer\" target=\"_blank\" href=\"https://scikit-learn.org/1.4/modules/generated/sklearn.ensemble.RandomForestClassifier.html\">?<span>Documentation for RandomForestClassifier</span></a><span class=\"sk-estimator-doc-link fitted\">i<span>Fitted</span></span></label><div class=\"sk-toggleable__content fitted\"><pre>RandomForestClassifier(n_jobs=-1, random_state=42)</pre></div> </div></div></div></div>"
      ],
      "text/plain": [
       "RandomForestClassifier(n_jobs=-1, random_state=42)"
      ]
     },
     "execution_count": 7,
     "metadata": {},
     "output_type": "execute_result"
    }
   ],
   "source": [
    "# Extract the best hyperparameters\n",
    "best_params = {\n",
    "    'n_estimators': best_individual[0],\n",
    "    'max_depth': best_individual[1],\n",
    "    'min_samples_split': best_individual[2]\n",
    "}\n",
    "\n",
    "# Train the final optimized model\n",
    "optimized_model = RandomForestClassifier(**best_params, random_state=42, n_jobs=-1)\n",
    "optimized_model.fit(X_train, y_train)\n",
    "\n",
    "# Also train a baseline model for comparison\n",
    "baseline_model = RandomForestClassifier(random_state=42, n_jobs=-1)\n",
    "baseline_model.fit(X_train, y_train)"
   ]
  },
  {
   "cell_type": "markdown",
   "metadata": {
    "id": "v9kWmhZyi7wD"
   },
   "source": [
    "## 6. Conclusion and Comparison"
   ]
  },
  {
   "cell_type": "code",
   "execution_count": 8,
   "metadata": {
    "colab": {
     "base_uri": "https://localhost:8080/"
    },
    "executionInfo": {
     "elapsed": 305,
     "status": "ok",
     "timestamp": 1751853000247,
     "user": {
      "displayName": "Aníbal Rojo",
      "userId": "05596267674606337960"
     },
     "user_tz": 240
    },
    "id": "BWEggRRQjkQT",
    "outputId": "3d39ce6b-25b4-4caa-c6cc-95d7815f48c0"
   },
   "outputs": [
    {
     "name": "stdout",
     "output_type": "stream",
     "text": [
      "--- Results for Baseline ---\n",
      "F1-score : 0.9488\n",
      "Precision: 0.9444\n",
      "Recall   : 0.9533\n",
      "AUC      : 0.9913\n",
      "------------------------------\n",
      "\n",
      "--- Results for GA Optimized ---\n",
      "F1-score : 0.9585\n",
      "Precision: 0.9455\n",
      "Recall   : 0.9720\n",
      "AUC      : 0.9917\n",
      "------------------------------\n",
      "\n"
     ]
    },
    {
     "data": {
      "image/png": "[encoded data removed]",
      "text/plain": [
       "<Figure size 1000x800 with 1 Axes>"
      ]
     },
     "metadata": {},
     "output_type": "display_data"
    }
   ],
   "source": [
    "# Use our standardized evaluation function for a consistent comparison\n",
    "models_to_compare = [baseline_model, optimized_model]\n",
    "model_names = ['Baseline', 'GA Optimized']\n",
    "\n",
    "visualize.evaluate_models(models_to_compare, model_names, X_test, y_test)"
   ]
  },
  {
   "cell_type": "markdown",
   "metadata": {
    "id": "Uj8CJMuinAyh"
   },
   "source": [
    "## 6. Analysis and Conclusion\n",
    "\n",
    "This notebook demonstrated the application of a Genetic Algorithm (GA) using the `DEAP` library to optimize the hyperparameters of a `RandomForestClassifier` for the Breast Cancer Wisconsin dataset. The primary goal was to explore an advanced, heuristic-based tuning method as an alternative to exhaustive or random searches.\n",
    "\n",
    "### Key Findings:\n",
    "\n",
    "1.  **Performance Improvement**: The Genetic Algorithm successfully identified a hyperparameter combination (`n_estimators=190`, `max_depth=13`, `min_samples_split=4`) that yielded a tangible improvement on the hold-out test set. The **GA-optimized model achieved an F1-score of 0.9585 and an AUC of 0.9915**, slightly outperforming the baseline model's F1-score of 0.9488 and AUC of 0.9913.\n",
    "\n",
    "2.  **Efficient Exploration**: The GA converged on a high-performing solution within just 15 generations. The evolution plot shows that both the maximum and average fitness of the population plateaued quickly, indicating that the algorithm efficiently homed in on a promising region of the vast hyperparameter space.\n",
    "\n",
    "3.  **Trade-offs of Genetic Algorithms**: While the performance gain was modest in this case (as the baseline was already strong), this exercise highlights the primary strengths of GAs:\n",
    "    *   **Strength**: They excel in very large, complex, or non-convex search spaces where methods like Grid Search are computationally infeasible and Random Search might be inefficient.\n",
    "    *   **Weakness**: They require a more complex and thoughtful setup compared to simpler methods, involving the careful definition of individuals, fitness functions, and evolutionary operators.\n",
    "\n",
    "### Final Thoughts:\n",
    "\n",
    "Hyperparameter tuning is a critical step in the machine learning pipeline, and Genetic Algorithms represent a powerful tool in the practitioner's arsenal. They provide a robust framework for navigating complex optimization problems that are not well-suited for traditional methods.\n",
    "\n",
    "**Future Work could involve:**\n",
    "*   Expanding the hyperparameter space to include other parameters like `min_samples_leaf` or `criterion`.\n",
    "*   Experimenting with different genetic operators (e.g., different crossover or mutation strategies) to observe their impact on convergence.\n",
    "*   Applying this GA framework to other, more complex models (like Gradient Boosting Machines) where hyperparameter sensitivity is even higher."
   ]
  }
 ],
 "metadata": {
  "colab": {
   "authorship_tag": "ABX9TyPrDzSovV/KSDdVJmTntkts",
   "provenance": [],
   "toc_visible": true
  },
  "kernelspec": {
   "display_name": "hyperparameter-toolkit-venv",
   "language": "python",
   "name": "hyperparameter-toolkit-venv"
  },
  "language_info": {
   "codemirror_mode": {
    "name": "ipython",
    "version": 3
   },
   "file_extension": ".py",
   "mimetype": "text/x-python",
   "name": "python",
   "nbconvert_exporter": "python",
   "pygments_lexer": "ipython3",
   "version": "3.12.4"
  }
 },
 "nbformat": 4,
 "nbformat_minor": 0
}
